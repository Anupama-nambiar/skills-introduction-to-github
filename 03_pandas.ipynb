{
  "cells": [
    {
      "cell_type": "markdown",
      "metadata": {
        "id": "5Ar1iwYs0KCW"
      },
      "source": [
        "# Data Wrangling\n",
        "\n",
        "- `pandas`\n",
        "- Where to find data?\n",
        "   - Web Scraping & APIs\n",
        "   \n",
        "   \n",
        "[![Open In Colab](https://colab.research.google.com/assets/colab-badge.svg)](https://colab.research.google.com/github/COGS108/Lectures-Fa24/blob/main/03_pandas.ipynb)\n",
        "\n",
        "\n",
        "\n"
      ]
    },
    {
      "cell_type": "markdown",
      "metadata": {
        "id": "7kXvfh3G0KCX"
      },
      "source": [
        "<center>\n",
        "<img src=\"https://raw.githubusercontent.com/COGS108/Lectures-Wi22/main/02_python/img/pandas.png\" alt=\"pandas\" width=\"600px\">\n",
        "</center>\n",
        "\n"
      ]
    },
    {
      "cell_type": "markdown",
      "metadata": {
        "id": "zM7yxzxK0KCX"
      },
      "source": [
        "Pandas is Python library for managing heterogenous data.\n",
        "\n",
        "At its core, Pandas is used for the **DataFrame** object, which is:\n",
        "- a data structure for labeled rows and columns of data\n",
        "- associated methods and utilities for working with data.\n",
        "- each column contains a `pandas` **Series**"
      ]
    },
    {
      "cell_type": "markdown",
      "metadata": {
        "id": "sTmlj-uX0KCX"
      },
      "source": [
        "# After this\n",
        "\n",
        "When you are done with this exercise/lecture... the real learning can begin!\n",
        "\n",
        "One of your best tools is https://pandastutor.com\n",
        "\n",
        "Another is the documentation for pandas including https://pandas.pydata.org/docs/user_guide/10min.html"
      ]
    },
    {
      "cell_type": "markdown",
      "metadata": {
        "id": "-XDlIWVB0KCX"
      },
      "source": [
        "## Setup"
      ]
    },
    {
      "cell_type": "code",
      "execution_count": 1,
      "metadata": {
        "id": "t5zbq-CG0KCX"
      },
      "outputs": [],
      "source": [
        "# Import standard libraries\n",
        "%matplotlib inline\n",
        "import pandas as pd\n",
        "import numpy as np"
      ]
    },
    {
      "cell_type": "code",
      "execution_count": null,
      "metadata": {
        "id": "Kq8lik3w0KCX"
      },
      "outputs": [],
      "source": [
        "# reminder about tab completion and contextual help"
      ]
    },
    {
      "cell_type": "markdown",
      "metadata": {
        "id": "yZX601ij0KCY"
      },
      "source": [
        "## Loading Data"
      ]
    },
    {
      "cell_type": "code",
      "execution_count": 3,
      "metadata": {
        "colab": {
          "base_uri": "https://localhost:8080/"
        },
        "id": "VpfwMXIi0KCY",
        "outputId": "f6883acb-2c86-43d0-9814-1a00be5352e0"
      },
      "outputs": [
        {
          "output_type": "stream",
          "name": "stdout",
          "text": [
            "total elements: 1200 \n",
            "shape of table (200, 6)\n"
          ]
        }
      ],
      "source": [
        "# Load a csv file of data\n",
        "# to take the data directly, use raw=true a the end of the url like below\n",
        "df = pd.read_csv('https://github.com/COGS108/Lectures-Fa25/blob/main/data/my_data.csv?raw=true')\n",
        "print('total elements:',df.size,'\\nshape of table',df.shape)"
      ]
    },
    {
      "cell_type": "code",
      "execution_count": 5,
      "metadata": {
        "colab": {
          "base_uri": "https://localhost:8080/",
          "height": 363
        },
        "id": "VZ1dFdGF0KCY",
        "outputId": "7071f37a-faa7-4ee9-ea94-3ad0cd96828e"
      },
      "outputs": [
        {
          "output_type": "execute_result",
          "data": {
            "text/plain": [
              "     id first_name last_name  age  score      value\n",
              "0   295     Andrea     Clark   46     -1   24547.87\n",
              "1   620       Bill     Woods   46    492   46713.90\n",
              "2   891  Alexander  Jacobson   48    489   32071.74\n",
              "3   914    Derrick   Bradley   52     -1   30650.48\n",
              "4  1736    Allison    Thomas   44     -1    9553.12\n",
              "5  2049    Stephen  Williams   57    333  138936.92\n",
              "6  2241      Malik      Wood   46     -1   10804.47\n",
              "7  2607      Amber    Garcia   50    536    9367.27\n",
              "8  2635      David   Coleman   68    351   66035.28\n",
              "9  3585       Eric    Atkins   56    582  103977.32"
            ],
            "text/html": [
              "\n",
              "  <div id=\"df-3f74d097-acf6-4c73-945a-91f88c3c5929\" class=\"colab-df-container\">\n",
              "    <div>\n",
              "<style scoped>\n",
              "    .dataframe tbody tr th:only-of-type {\n",
              "        vertical-align: middle;\n",
              "    }\n",
              "\n",
              "    .dataframe tbody tr th {\n",
              "        vertical-align: top;\n",
              "    }\n",
              "\n",
              "    .dataframe thead th {\n",
              "        text-align: right;\n",
              "    }\n",
              "</style>\n",
              "<table border=\"1\" class=\"dataframe\">\n",
              "  <thead>\n",
              "    <tr style=\"text-align: right;\">\n",
              "      <th></th>\n",
              "      <th>id</th>\n",
              "      <th>first_name</th>\n",
              "      <th>last_name</th>\n",
              "      <th>age</th>\n",
              "      <th>score</th>\n",
              "      <th>value</th>\n",
              "    </tr>\n",
              "  </thead>\n",
              "  <tbody>\n",
              "    <tr>\n",
              "      <th>0</th>\n",
              "      <td>295</td>\n",
              "      <td>Andrea</td>\n",
              "      <td>Clark</td>\n",
              "      <td>46</td>\n",
              "      <td>-1</td>\n",
              "      <td>24547.87</td>\n",
              "    </tr>\n",
              "    <tr>\n",
              "      <th>1</th>\n",
              "      <td>620</td>\n",
              "      <td>Bill</td>\n",
              "      <td>Woods</td>\n",
              "      <td>46</td>\n",
              "      <td>492</td>\n",
              "      <td>46713.90</td>\n",
              "    </tr>\n",
              "    <tr>\n",
              "      <th>2</th>\n",
              "      <td>891</td>\n",
              "      <td>Alexander</td>\n",
              "      <td>Jacobson</td>\n",
              "      <td>48</td>\n",
              "      <td>489</td>\n",
              "      <td>32071.74</td>\n",
              "    </tr>\n",
              "    <tr>\n",
              "      <th>3</th>\n",
              "      <td>914</td>\n",
              "      <td>Derrick</td>\n",
              "      <td>Bradley</td>\n",
              "      <td>52</td>\n",
              "      <td>-1</td>\n",
              "      <td>30650.48</td>\n",
              "    </tr>\n",
              "    <tr>\n",
              "      <th>4</th>\n",
              "      <td>1736</td>\n",
              "      <td>Allison</td>\n",
              "      <td>Thomas</td>\n",
              "      <td>44</td>\n",
              "      <td>-1</td>\n",
              "      <td>9553.12</td>\n",
              "    </tr>\n",
              "    <tr>\n",
              "      <th>5</th>\n",
              "      <td>2049</td>\n",
              "      <td>Stephen</td>\n",
              "      <td>Williams</td>\n",
              "      <td>57</td>\n",
              "      <td>333</td>\n",
              "      <td>138936.92</td>\n",
              "    </tr>\n",
              "    <tr>\n",
              "      <th>6</th>\n",
              "      <td>2241</td>\n",
              "      <td>Malik</td>\n",
              "      <td>Wood</td>\n",
              "      <td>46</td>\n",
              "      <td>-1</td>\n",
              "      <td>10804.47</td>\n",
              "    </tr>\n",
              "    <tr>\n",
              "      <th>7</th>\n",
              "      <td>2607</td>\n",
              "      <td>Amber</td>\n",
              "      <td>Garcia</td>\n",
              "      <td>50</td>\n",
              "      <td>536</td>\n",
              "      <td>9367.27</td>\n",
              "    </tr>\n",
              "    <tr>\n",
              "      <th>8</th>\n",
              "      <td>2635</td>\n",
              "      <td>David</td>\n",
              "      <td>Coleman</td>\n",
              "      <td>68</td>\n",
              "      <td>351</td>\n",
              "      <td>66035.28</td>\n",
              "    </tr>\n",
              "    <tr>\n",
              "      <th>9</th>\n",
              "      <td>3585</td>\n",
              "      <td>Eric</td>\n",
              "      <td>Atkins</td>\n",
              "      <td>56</td>\n",
              "      <td>582</td>\n",
              "      <td>103977.32</td>\n",
              "    </tr>\n",
              "  </tbody>\n",
              "</table>\n",
              "</div>\n",
              "    <div class=\"colab-df-buttons\">\n",
              "\n",
              "  <div class=\"colab-df-container\">\n",
              "    <button class=\"colab-df-convert\" onclick=\"convertToInteractive('df-3f74d097-acf6-4c73-945a-91f88c3c5929')\"\n",
              "            title=\"Convert this dataframe to an interactive table.\"\n",
              "            style=\"display:none;\">\n",
              "\n",
              "  <svg xmlns=\"http://www.w3.org/2000/svg\" height=\"24px\" viewBox=\"0 -960 960 960\">\n",
              "    <path d=\"M120-120v-720h720v720H120Zm60-500h600v-160H180v160Zm220 220h160v-160H400v160Zm0 220h160v-160H400v160ZM180-400h160v-160H180v160Zm440 0h160v-160H620v160ZM180-180h160v-160H180v160Zm440 0h160v-160H620v160Z\"/>\n",
              "  </svg>\n",
              "    </button>\n",
              "\n",
              "  <style>\n",
              "    .colab-df-container {\n",
              "      display:flex;\n",
              "      gap: 12px;\n",
              "    }\n",
              "\n",
              "    .colab-df-convert {\n",
              "      background-color: #E8F0FE;\n",
              "      border: none;\n",
              "      border-radius: 50%;\n",
              "      cursor: pointer;\n",
              "      display: none;\n",
              "      fill: #1967D2;\n",
              "      height: 32px;\n",
              "      padding: 0 0 0 0;\n",
              "      width: 32px;\n",
              "    }\n",
              "\n",
              "    .colab-df-convert:hover {\n",
              "      background-color: #E2EBFA;\n",
              "      box-shadow: 0px 1px 2px rgba(60, 64, 67, 0.3), 0px 1px 3px 1px rgba(60, 64, 67, 0.15);\n",
              "      fill: #174EA6;\n",
              "    }\n",
              "\n",
              "    .colab-df-buttons div {\n",
              "      margin-bottom: 4px;\n",
              "    }\n",
              "\n",
              "    [theme=dark] .colab-df-convert {\n",
              "      background-color: #3B4455;\n",
              "      fill: #D2E3FC;\n",
              "    }\n",
              "\n",
              "    [theme=dark] .colab-df-convert:hover {\n",
              "      background-color: #434B5C;\n",
              "      box-shadow: 0px 1px 3px 1px rgba(0, 0, 0, 0.15);\n",
              "      filter: drop-shadow(0px 1px 2px rgba(0, 0, 0, 0.3));\n",
              "      fill: #FFFFFF;\n",
              "    }\n",
              "  </style>\n",
              "\n",
              "    <script>\n",
              "      const buttonEl =\n",
              "        document.querySelector('#df-3f74d097-acf6-4c73-945a-91f88c3c5929 button.colab-df-convert');\n",
              "      buttonEl.style.display =\n",
              "        google.colab.kernel.accessAllowed ? 'block' : 'none';\n",
              "\n",
              "      async function convertToInteractive(key) {\n",
              "        const element = document.querySelector('#df-3f74d097-acf6-4c73-945a-91f88c3c5929');\n",
              "        const dataTable =\n",
              "          await google.colab.kernel.invokeFunction('convertToInteractive',\n",
              "                                                    [key], {});\n",
              "        if (!dataTable) return;\n",
              "\n",
              "        const docLinkHtml = 'Like what you see? Visit the ' +\n",
              "          '<a target=\"_blank\" href=https://colab.research.google.com/notebooks/data_table.ipynb>data table notebook</a>'\n",
              "          + ' to learn more about interactive tables.';\n",
              "        element.innerHTML = '';\n",
              "        dataTable['output_type'] = 'display_data';\n",
              "        await google.colab.output.renderOutput(dataTable, element);\n",
              "        const docLink = document.createElement('div');\n",
              "        docLink.innerHTML = docLinkHtml;\n",
              "        element.appendChild(docLink);\n",
              "      }\n",
              "    </script>\n",
              "  </div>\n",
              "\n",
              "\n",
              "    <div id=\"df-d101ac56-e713-4ded-97ec-75729de3c530\">\n",
              "      <button class=\"colab-df-quickchart\" onclick=\"quickchart('df-d101ac56-e713-4ded-97ec-75729de3c530')\"\n",
              "                title=\"Suggest charts\"\n",
              "                style=\"display:none;\">\n",
              "\n",
              "<svg xmlns=\"http://www.w3.org/2000/svg\" height=\"24px\"viewBox=\"0 0 24 24\"\n",
              "     width=\"24px\">\n",
              "    <g>\n",
              "        <path d=\"M19 3H5c-1.1 0-2 .9-2 2v14c0 1.1.9 2 2 2h14c1.1 0 2-.9 2-2V5c0-1.1-.9-2-2-2zM9 17H7v-7h2v7zm4 0h-2V7h2v10zm4 0h-2v-4h2v4z\"/>\n",
              "    </g>\n",
              "</svg>\n",
              "      </button>\n",
              "\n",
              "<style>\n",
              "  .colab-df-quickchart {\n",
              "      --bg-color: #E8F0FE;\n",
              "      --fill-color: #1967D2;\n",
              "      --hover-bg-color: #E2EBFA;\n",
              "      --hover-fill-color: #174EA6;\n",
              "      --disabled-fill-color: #AAA;\n",
              "      --disabled-bg-color: #DDD;\n",
              "  }\n",
              "\n",
              "  [theme=dark] .colab-df-quickchart {\n",
              "      --bg-color: #3B4455;\n",
              "      --fill-color: #D2E3FC;\n",
              "      --hover-bg-color: #434B5C;\n",
              "      --hover-fill-color: #FFFFFF;\n",
              "      --disabled-bg-color: #3B4455;\n",
              "      --disabled-fill-color: #666;\n",
              "  }\n",
              "\n",
              "  .colab-df-quickchart {\n",
              "    background-color: var(--bg-color);\n",
              "    border: none;\n",
              "    border-radius: 50%;\n",
              "    cursor: pointer;\n",
              "    display: none;\n",
              "    fill: var(--fill-color);\n",
              "    height: 32px;\n",
              "    padding: 0;\n",
              "    width: 32px;\n",
              "  }\n",
              "\n",
              "  .colab-df-quickchart:hover {\n",
              "    background-color: var(--hover-bg-color);\n",
              "    box-shadow: 0 1px 2px rgba(60, 64, 67, 0.3), 0 1px 3px 1px rgba(60, 64, 67, 0.15);\n",
              "    fill: var(--button-hover-fill-color);\n",
              "  }\n",
              "\n",
              "  .colab-df-quickchart-complete:disabled,\n",
              "  .colab-df-quickchart-complete:disabled:hover {\n",
              "    background-color: var(--disabled-bg-color);\n",
              "    fill: var(--disabled-fill-color);\n",
              "    box-shadow: none;\n",
              "  }\n",
              "\n",
              "  .colab-df-spinner {\n",
              "    border: 2px solid var(--fill-color);\n",
              "    border-color: transparent;\n",
              "    border-bottom-color: var(--fill-color);\n",
              "    animation:\n",
              "      spin 1s steps(1) infinite;\n",
              "  }\n",
              "\n",
              "  @keyframes spin {\n",
              "    0% {\n",
              "      border-color: transparent;\n",
              "      border-bottom-color: var(--fill-color);\n",
              "      border-left-color: var(--fill-color);\n",
              "    }\n",
              "    20% {\n",
              "      border-color: transparent;\n",
              "      border-left-color: var(--fill-color);\n",
              "      border-top-color: var(--fill-color);\n",
              "    }\n",
              "    30% {\n",
              "      border-color: transparent;\n",
              "      border-left-color: var(--fill-color);\n",
              "      border-top-color: var(--fill-color);\n",
              "      border-right-color: var(--fill-color);\n",
              "    }\n",
              "    40% {\n",
              "      border-color: transparent;\n",
              "      border-right-color: var(--fill-color);\n",
              "      border-top-color: var(--fill-color);\n",
              "    }\n",
              "    60% {\n",
              "      border-color: transparent;\n",
              "      border-right-color: var(--fill-color);\n",
              "    }\n",
              "    80% {\n",
              "      border-color: transparent;\n",
              "      border-right-color: var(--fill-color);\n",
              "      border-bottom-color: var(--fill-color);\n",
              "    }\n",
              "    90% {\n",
              "      border-color: transparent;\n",
              "      border-bottom-color: var(--fill-color);\n",
              "    }\n",
              "  }\n",
              "</style>\n",
              "\n",
              "      <script>\n",
              "        async function quickchart(key) {\n",
              "          const quickchartButtonEl =\n",
              "            document.querySelector('#' + key + ' button');\n",
              "          quickchartButtonEl.disabled = true;  // To prevent multiple clicks.\n",
              "          quickchartButtonEl.classList.add('colab-df-spinner');\n",
              "          try {\n",
              "            const charts = await google.colab.kernel.invokeFunction(\n",
              "                'suggestCharts', [key], {});\n",
              "          } catch (error) {\n",
              "            console.error('Error during call to suggestCharts:', error);\n",
              "          }\n",
              "          quickchartButtonEl.classList.remove('colab-df-spinner');\n",
              "          quickchartButtonEl.classList.add('colab-df-quickchart-complete');\n",
              "        }\n",
              "        (() => {\n",
              "          let quickchartButtonEl =\n",
              "            document.querySelector('#df-d101ac56-e713-4ded-97ec-75729de3c530 button');\n",
              "          quickchartButtonEl.style.display =\n",
              "            google.colab.kernel.accessAllowed ? 'block' : 'none';\n",
              "        })();\n",
              "      </script>\n",
              "    </div>\n",
              "\n",
              "    </div>\n",
              "  </div>\n"
            ],
            "application/vnd.google.colaboratory.intrinsic+json": {
              "type": "dataframe",
              "variable_name": "df",
              "summary": "{\n  \"name\": \"df\",\n  \"rows\": 200,\n  \"fields\": [\n    {\n      \"column\": \"id\",\n      \"properties\": {\n        \"dtype\": \"number\",\n        \"std\": 29414,\n        \"min\": 295,\n        \"max\": 98366,\n        \"num_unique_values\": 200,\n        \"samples\": [\n          53785,\n          8343,\n          16263\n        ],\n        \"semantic_type\": \"\",\n        \"description\": \"\"\n      }\n    },\n    {\n      \"column\": \"first_name\",\n      \"properties\": {\n        \"dtype\": \"string\",\n        \"num_unique_values\": 134,\n        \"samples\": [\n          \"Kerri\",\n          \"Jacqueline\",\n          \"Craig\"\n        ],\n        \"semantic_type\": \"\",\n        \"description\": \"\"\n      }\n    },\n    {\n      \"column\": \"last_name\",\n      \"properties\": {\n        \"dtype\": \"string\",\n        \"num_unique_values\": 155,\n        \"samples\": [\n          \"Scott\",\n          \"Stewart\",\n          \"Travis\"\n        ],\n        \"semantic_type\": \"\",\n        \"description\": \"\"\n      }\n    },\n    {\n      \"column\": \"age\",\n      \"properties\": {\n        \"dtype\": \"number\",\n        \"std\": 10,\n        \"min\": 14,\n        \"max\": 69,\n        \"num_unique_values\": 43,\n        \"samples\": [\n          63,\n          65,\n          54\n        ],\n        \"semantic_type\": \"\",\n        \"description\": \"\"\n      }\n    },\n    {\n      \"column\": \"score\",\n      \"properties\": {\n        \"dtype\": \"number\",\n        \"std\": 237,\n        \"min\": -1,\n        \"max\": 942,\n        \"num_unique_values\": 148,\n        \"samples\": [\n          459,\n          682,\n          478\n        ],\n        \"semantic_type\": \"\",\n        \"description\": \"\"\n      }\n    },\n    {\n      \"column\": \"value\",\n      \"properties\": {\n        \"dtype\": \"number\",\n        \"std\": 32493.94574115322,\n        \"min\": 0.0,\n        \"max\": 204999.96,\n        \"num_unique_values\": 180,\n        \"samples\": [\n          2298.05,\n          20991.69,\n          5787.5\n        ],\n        \"semantic_type\": \"\",\n        \"description\": \"\"\n      }\n    }\n  ]\n}"
            }
          },
          "metadata": {},
          "execution_count": 5
        }
      ],
      "source": [
        "# Check out a few rows or last few rows of the dataframe using head() or tail()\n",
        "df.tail(12)"
      ]
    },
    {
      "cell_type": "code",
      "source": [
        "df.head(10)"
      ],
      "metadata": {
        "colab": {
          "base_uri": "https://localhost:8080/",
          "height": 363
        },
        "id": "f4ldspNd2UCZ",
        "outputId": "797f72f6-7582-45e7-ae24-b7a209251017"
      },
      "execution_count": 6,
      "outputs": [
        {
          "output_type": "execute_result",
          "data": {
            "text/plain": [
              "     id first_name last_name  age  score      value\n",
              "0   295     Andrea     Clark   46     -1   24547.87\n",
              "1   620       Bill     Woods   46    492   46713.90\n",
              "2   891  Alexander  Jacobson   48    489   32071.74\n",
              "3   914    Derrick   Bradley   52     -1   30650.48\n",
              "4  1736    Allison    Thomas   44     -1    9553.12\n",
              "5  2049    Stephen  Williams   57    333  138936.92\n",
              "6  2241      Malik      Wood   46     -1   10804.47\n",
              "7  2607      Amber    Garcia   50    536    9367.27\n",
              "8  2635      David   Coleman   68    351   66035.28\n",
              "9  3585       Eric    Atkins   56    582  103977.32"
            ],
            "text/html": [
              "\n",
              "  <div id=\"df-a83fb47a-4ca6-4f1f-aaae-8ce65091a867\" class=\"colab-df-container\">\n",
              "    <div>\n",
              "<style scoped>\n",
              "    .dataframe tbody tr th:only-of-type {\n",
              "        vertical-align: middle;\n",
              "    }\n",
              "\n",
              "    .dataframe tbody tr th {\n",
              "        vertical-align: top;\n",
              "    }\n",
              "\n",
              "    .dataframe thead th {\n",
              "        text-align: right;\n",
              "    }\n",
              "</style>\n",
              "<table border=\"1\" class=\"dataframe\">\n",
              "  <thead>\n",
              "    <tr style=\"text-align: right;\">\n",
              "      <th></th>\n",
              "      <th>id</th>\n",
              "      <th>first_name</th>\n",
              "      <th>last_name</th>\n",
              "      <th>age</th>\n",
              "      <th>score</th>\n",
              "      <th>value</th>\n",
              "    </tr>\n",
              "  </thead>\n",
              "  <tbody>\n",
              "    <tr>\n",
              "      <th>0</th>\n",
              "      <td>295</td>\n",
              "      <td>Andrea</td>\n",
              "      <td>Clark</td>\n",
              "      <td>46</td>\n",
              "      <td>-1</td>\n",
              "      <td>24547.87</td>\n",
              "    </tr>\n",
              "    <tr>\n",
              "      <th>1</th>\n",
              "      <td>620</td>\n",
              "      <td>Bill</td>\n",
              "      <td>Woods</td>\n",
              "      <td>46</td>\n",
              "      <td>492</td>\n",
              "      <td>46713.90</td>\n",
              "    </tr>\n",
              "    <tr>\n",
              "      <th>2</th>\n",
              "      <td>891</td>\n",
              "      <td>Alexander</td>\n",
              "      <td>Jacobson</td>\n",
              "      <td>48</td>\n",
              "      <td>489</td>\n",
              "      <td>32071.74</td>\n",
              "    </tr>\n",
              "    <tr>\n",
              "      <th>3</th>\n",
              "      <td>914</td>\n",
              "      <td>Derrick</td>\n",
              "      <td>Bradley</td>\n",
              "      <td>52</td>\n",
              "      <td>-1</td>\n",
              "      <td>30650.48</td>\n",
              "    </tr>\n",
              "    <tr>\n",
              "      <th>4</th>\n",
              "      <td>1736</td>\n",
              "      <td>Allison</td>\n",
              "      <td>Thomas</td>\n",
              "      <td>44</td>\n",
              "      <td>-1</td>\n",
              "      <td>9553.12</td>\n",
              "    </tr>\n",
              "    <tr>\n",
              "      <th>5</th>\n",
              "      <td>2049</td>\n",
              "      <td>Stephen</td>\n",
              "      <td>Williams</td>\n",
              "      <td>57</td>\n",
              "      <td>333</td>\n",
              "      <td>138936.92</td>\n",
              "    </tr>\n",
              "    <tr>\n",
              "      <th>6</th>\n",
              "      <td>2241</td>\n",
              "      <td>Malik</td>\n",
              "      <td>Wood</td>\n",
              "      <td>46</td>\n",
              "      <td>-1</td>\n",
              "      <td>10804.47</td>\n",
              "    </tr>\n",
              "    <tr>\n",
              "      <th>7</th>\n",
              "      <td>2607</td>\n",
              "      <td>Amber</td>\n",
              "      <td>Garcia</td>\n",
              "      <td>50</td>\n",
              "      <td>536</td>\n",
              "      <td>9367.27</td>\n",
              "    </tr>\n",
              "    <tr>\n",
              "      <th>8</th>\n",
              "      <td>2635</td>\n",
              "      <td>David</td>\n",
              "      <td>Coleman</td>\n",
              "      <td>68</td>\n",
              "      <td>351</td>\n",
              "      <td>66035.28</td>\n",
              "    </tr>\n",
              "    <tr>\n",
              "      <th>9</th>\n",
              "      <td>3585</td>\n",
              "      <td>Eric</td>\n",
              "      <td>Atkins</td>\n",
              "      <td>56</td>\n",
              "      <td>582</td>\n",
              "      <td>103977.32</td>\n",
              "    </tr>\n",
              "  </tbody>\n",
              "</table>\n",
              "</div>\n",
              "    <div class=\"colab-df-buttons\">\n",
              "\n",
              "  <div class=\"colab-df-container\">\n",
              "    <button class=\"colab-df-convert\" onclick=\"convertToInteractive('df-a83fb47a-4ca6-4f1f-aaae-8ce65091a867')\"\n",
              "            title=\"Convert this dataframe to an interactive table.\"\n",
              "            style=\"display:none;\">\n",
              "\n",
              "  <svg xmlns=\"http://www.w3.org/2000/svg\" height=\"24px\" viewBox=\"0 -960 960 960\">\n",
              "    <path d=\"M120-120v-720h720v720H120Zm60-500h600v-160H180v160Zm220 220h160v-160H400v160Zm0 220h160v-160H400v160ZM180-400h160v-160H180v160Zm440 0h160v-160H620v160ZM180-180h160v-160H180v160Zm440 0h160v-160H620v160Z\"/>\n",
              "  </svg>\n",
              "    </button>\n",
              "\n",
              "  <style>\n",
              "    .colab-df-container {\n",
              "      display:flex;\n",
              "      gap: 12px;\n",
              "    }\n",
              "\n",
              "    .colab-df-convert {\n",
              "      background-color: #E8F0FE;\n",
              "      border: none;\n",
              "      border-radius: 50%;\n",
              "      cursor: pointer;\n",
              "      display: none;\n",
              "      fill: #1967D2;\n",
              "      height: 32px;\n",
              "      padding: 0 0 0 0;\n",
              "      width: 32px;\n",
              "    }\n",
              "\n",
              "    .colab-df-convert:hover {\n",
              "      background-color: #E2EBFA;\n",
              "      box-shadow: 0px 1px 2px rgba(60, 64, 67, 0.3), 0px 1px 3px 1px rgba(60, 64, 67, 0.15);\n",
              "      fill: #174EA6;\n",
              "    }\n",
              "\n",
              "    .colab-df-buttons div {\n",
              "      margin-bottom: 4px;\n",
              "    }\n",
              "\n",
              "    [theme=dark] .colab-df-convert {\n",
              "      background-color: #3B4455;\n",
              "      fill: #D2E3FC;\n",
              "    }\n",
              "\n",
              "    [theme=dark] .colab-df-convert:hover {\n",
              "      background-color: #434B5C;\n",
              "      box-shadow: 0px 1px 3px 1px rgba(0, 0, 0, 0.15);\n",
              "      filter: drop-shadow(0px 1px 2px rgba(0, 0, 0, 0.3));\n",
              "      fill: #FFFFFF;\n",
              "    }\n",
              "  </style>\n",
              "\n",
              "    <script>\n",
              "      const buttonEl =\n",
              "        document.querySelector('#df-a83fb47a-4ca6-4f1f-aaae-8ce65091a867 button.colab-df-convert');\n",
              "      buttonEl.style.display =\n",
              "        google.colab.kernel.accessAllowed ? 'block' : 'none';\n",
              "\n",
              "      async function convertToInteractive(key) {\n",
              "        const element = document.querySelector('#df-a83fb47a-4ca6-4f1f-aaae-8ce65091a867');\n",
              "        const dataTable =\n",
              "          await google.colab.kernel.invokeFunction('convertToInteractive',\n",
              "                                                    [key], {});\n",
              "        if (!dataTable) return;\n",
              "\n",
              "        const docLinkHtml = 'Like what you see? Visit the ' +\n",
              "          '<a target=\"_blank\" href=https://colab.research.google.com/notebooks/data_table.ipynb>data table notebook</a>'\n",
              "          + ' to learn more about interactive tables.';\n",
              "        element.innerHTML = '';\n",
              "        dataTable['output_type'] = 'display_data';\n",
              "        await google.colab.output.renderOutput(dataTable, element);\n",
              "        const docLink = document.createElement('div');\n",
              "        docLink.innerHTML = docLinkHtml;\n",
              "        element.appendChild(docLink);\n",
              "      }\n",
              "    </script>\n",
              "  </div>\n",
              "\n",
              "\n",
              "    <div id=\"df-a800aeb0-a790-4441-bcd8-b3f57088a075\">\n",
              "      <button class=\"colab-df-quickchart\" onclick=\"quickchart('df-a800aeb0-a790-4441-bcd8-b3f57088a075')\"\n",
              "                title=\"Suggest charts\"\n",
              "                style=\"display:none;\">\n",
              "\n",
              "<svg xmlns=\"http://www.w3.org/2000/svg\" height=\"24px\"viewBox=\"0 0 24 24\"\n",
              "     width=\"24px\">\n",
              "    <g>\n",
              "        <path d=\"M19 3H5c-1.1 0-2 .9-2 2v14c0 1.1.9 2 2 2h14c1.1 0 2-.9 2-2V5c0-1.1-.9-2-2-2zM9 17H7v-7h2v7zm4 0h-2V7h2v10zm4 0h-2v-4h2v4z\"/>\n",
              "    </g>\n",
              "</svg>\n",
              "      </button>\n",
              "\n",
              "<style>\n",
              "  .colab-df-quickchart {\n",
              "      --bg-color: #E8F0FE;\n",
              "      --fill-color: #1967D2;\n",
              "      --hover-bg-color: #E2EBFA;\n",
              "      --hover-fill-color: #174EA6;\n",
              "      --disabled-fill-color: #AAA;\n",
              "      --disabled-bg-color: #DDD;\n",
              "  }\n",
              "\n",
              "  [theme=dark] .colab-df-quickchart {\n",
              "      --bg-color: #3B4455;\n",
              "      --fill-color: #D2E3FC;\n",
              "      --hover-bg-color: #434B5C;\n",
              "      --hover-fill-color: #FFFFFF;\n",
              "      --disabled-bg-color: #3B4455;\n",
              "      --disabled-fill-color: #666;\n",
              "  }\n",
              "\n",
              "  .colab-df-quickchart {\n",
              "    background-color: var(--bg-color);\n",
              "    border: none;\n",
              "    border-radius: 50%;\n",
              "    cursor: pointer;\n",
              "    display: none;\n",
              "    fill: var(--fill-color);\n",
              "    height: 32px;\n",
              "    padding: 0;\n",
              "    width: 32px;\n",
              "  }\n",
              "\n",
              "  .colab-df-quickchart:hover {\n",
              "    background-color: var(--hover-bg-color);\n",
              "    box-shadow: 0 1px 2px rgba(60, 64, 67, 0.3), 0 1px 3px 1px rgba(60, 64, 67, 0.15);\n",
              "    fill: var(--button-hover-fill-color);\n",
              "  }\n",
              "\n",
              "  .colab-df-quickchart-complete:disabled,\n",
              "  .colab-df-quickchart-complete:disabled:hover {\n",
              "    background-color: var(--disabled-bg-color);\n",
              "    fill: var(--disabled-fill-color);\n",
              "    box-shadow: none;\n",
              "  }\n",
              "\n",
              "  .colab-df-spinner {\n",
              "    border: 2px solid var(--fill-color);\n",
              "    border-color: transparent;\n",
              "    border-bottom-color: var(--fill-color);\n",
              "    animation:\n",
              "      spin 1s steps(1) infinite;\n",
              "  }\n",
              "\n",
              "  @keyframes spin {\n",
              "    0% {\n",
              "      border-color: transparent;\n",
              "      border-bottom-color: var(--fill-color);\n",
              "      border-left-color: var(--fill-color);\n",
              "    }\n",
              "    20% {\n",
              "      border-color: transparent;\n",
              "      border-left-color: var(--fill-color);\n",
              "      border-top-color: var(--fill-color);\n",
              "    }\n",
              "    30% {\n",
              "      border-color: transparent;\n",
              "      border-left-color: var(--fill-color);\n",
              "      border-top-color: var(--fill-color);\n",
              "      border-right-color: var(--fill-color);\n",
              "    }\n",
              "    40% {\n",
              "      border-color: transparent;\n",
              "      border-right-color: var(--fill-color);\n",
              "      border-top-color: var(--fill-color);\n",
              "    }\n",
              "    60% {\n",
              "      border-color: transparent;\n",
              "      border-right-color: var(--fill-color);\n",
              "    }\n",
              "    80% {\n",
              "      border-color: transparent;\n",
              "      border-right-color: var(--fill-color);\n",
              "      border-bottom-color: var(--fill-color);\n",
              "    }\n",
              "    90% {\n",
              "      border-color: transparent;\n",
              "      border-bottom-color: var(--fill-color);\n",
              "    }\n",
              "  }\n",
              "</style>\n",
              "\n",
              "      <script>\n",
              "        async function quickchart(key) {\n",
              "          const quickchartButtonEl =\n",
              "            document.querySelector('#' + key + ' button');\n",
              "          quickchartButtonEl.disabled = true;  // To prevent multiple clicks.\n",
              "          quickchartButtonEl.classList.add('colab-df-spinner');\n",
              "          try {\n",
              "            const charts = await google.colab.kernel.invokeFunction(\n",
              "                'suggestCharts', [key], {});\n",
              "          } catch (error) {\n",
              "            console.error('Error during call to suggestCharts:', error);\n",
              "          }\n",
              "          quickchartButtonEl.classList.remove('colab-df-spinner');\n",
              "          quickchartButtonEl.classList.add('colab-df-quickchart-complete');\n",
              "        }\n",
              "        (() => {\n",
              "          let quickchartButtonEl =\n",
              "            document.querySelector('#df-a800aeb0-a790-4441-bcd8-b3f57088a075 button');\n",
              "          quickchartButtonEl.style.display =\n",
              "            google.colab.kernel.accessAllowed ? 'block' : 'none';\n",
              "        })();\n",
              "      </script>\n",
              "    </div>\n",
              "\n",
              "    </div>\n",
              "  </div>\n"
            ],
            "application/vnd.google.colaboratory.intrinsic+json": {
              "type": "dataframe",
              "variable_name": "df",
              "summary": "{\n  \"name\": \"df\",\n  \"rows\": 200,\n  \"fields\": [\n    {\n      \"column\": \"id\",\n      \"properties\": {\n        \"dtype\": \"number\",\n        \"std\": 29414,\n        \"min\": 295,\n        \"max\": 98366,\n        \"num_unique_values\": 200,\n        \"samples\": [\n          53785,\n          8343,\n          16263\n        ],\n        \"semantic_type\": \"\",\n        \"description\": \"\"\n      }\n    },\n    {\n      \"column\": \"first_name\",\n      \"properties\": {\n        \"dtype\": \"string\",\n        \"num_unique_values\": 134,\n        \"samples\": [\n          \"Kerri\",\n          \"Jacqueline\",\n          \"Craig\"\n        ],\n        \"semantic_type\": \"\",\n        \"description\": \"\"\n      }\n    },\n    {\n      \"column\": \"last_name\",\n      \"properties\": {\n        \"dtype\": \"string\",\n        \"num_unique_values\": 155,\n        \"samples\": [\n          \"Scott\",\n          \"Stewart\",\n          \"Travis\"\n        ],\n        \"semantic_type\": \"\",\n        \"description\": \"\"\n      }\n    },\n    {\n      \"column\": \"age\",\n      \"properties\": {\n        \"dtype\": \"number\",\n        \"std\": 10,\n        \"min\": 14,\n        \"max\": 69,\n        \"num_unique_values\": 43,\n        \"samples\": [\n          63,\n          65,\n          54\n        ],\n        \"semantic_type\": \"\",\n        \"description\": \"\"\n      }\n    },\n    {\n      \"column\": \"score\",\n      \"properties\": {\n        \"dtype\": \"number\",\n        \"std\": 237,\n        \"min\": -1,\n        \"max\": 942,\n        \"num_unique_values\": 148,\n        \"samples\": [\n          459,\n          682,\n          478\n        ],\n        \"semantic_type\": \"\",\n        \"description\": \"\"\n      }\n    },\n    {\n      \"column\": \"value\",\n      \"properties\": {\n        \"dtype\": \"number\",\n        \"std\": 32493.94574115322,\n        \"min\": 0.0,\n        \"max\": 204999.96,\n        \"num_unique_values\": 180,\n        \"samples\": [\n          2298.05,\n          20991.69,\n          5787.5\n        ],\n        \"semantic_type\": \"\",\n        \"description\": \"\"\n      }\n    }\n  ]\n}"
            }
          },
          "metadata": {},
          "execution_count": 6
        }
      ]
    },
    {
      "cell_type": "markdown",
      "metadata": {
        "id": "srcMWT5e0KCY"
      },
      "source": [
        "Pandas DataFrame:\n",
        "- Index for each row\n",
        "- Column name for each column (Series)\n",
        "- Stores heterogenous types"
      ]
    },
    {
      "cell_type": "markdown",
      "metadata": {
        "id": "yWz2M6ZD0KCY"
      },
      "source": [
        "## Slicing"
      ]
    },
    {
      "cell_type": "code",
      "execution_count": 9,
      "metadata": {
        "colab": {
          "base_uri": "https://localhost:8080/",
          "height": 458
        },
        "id": "xl2IHwjG0KCZ",
        "outputId": "f24740a0-d6f1-4ead-f8cf-b551f005aa08"
      },
      "outputs": [
        {
          "output_type": "execute_result",
          "data": {
            "text/plain": [
              "0      46\n",
              "1      46\n",
              "2      48\n",
              "3      52\n",
              "4      44\n",
              "       ..\n",
              "195    34\n",
              "196    37\n",
              "197    29\n",
              "198    34\n",
              "199    45\n",
              "Name: age, Length: 200, dtype: int64"
            ],
            "text/html": [
              "<div>\n",
              "<style scoped>\n",
              "    .dataframe tbody tr th:only-of-type {\n",
              "        vertical-align: middle;\n",
              "    }\n",
              "\n",
              "    .dataframe tbody tr th {\n",
              "        vertical-align: top;\n",
              "    }\n",
              "\n",
              "    .dataframe thead th {\n",
              "        text-align: right;\n",
              "    }\n",
              "</style>\n",
              "<table border=\"1\" class=\"dataframe\">\n",
              "  <thead>\n",
              "    <tr style=\"text-align: right;\">\n",
              "      <th></th>\n",
              "      <th>age</th>\n",
              "    </tr>\n",
              "  </thead>\n",
              "  <tbody>\n",
              "    <tr>\n",
              "      <th>0</th>\n",
              "      <td>46</td>\n",
              "    </tr>\n",
              "    <tr>\n",
              "      <th>1</th>\n",
              "      <td>46</td>\n",
              "    </tr>\n",
              "    <tr>\n",
              "      <th>2</th>\n",
              "      <td>48</td>\n",
              "    </tr>\n",
              "    <tr>\n",
              "      <th>3</th>\n",
              "      <td>52</td>\n",
              "    </tr>\n",
              "    <tr>\n",
              "      <th>4</th>\n",
              "      <td>44</td>\n",
              "    </tr>\n",
              "    <tr>\n",
              "      <th>...</th>\n",
              "      <td>...</td>\n",
              "    </tr>\n",
              "    <tr>\n",
              "      <th>195</th>\n",
              "      <td>34</td>\n",
              "    </tr>\n",
              "    <tr>\n",
              "      <th>196</th>\n",
              "      <td>37</td>\n",
              "    </tr>\n",
              "    <tr>\n",
              "      <th>197</th>\n",
              "      <td>29</td>\n",
              "    </tr>\n",
              "    <tr>\n",
              "      <th>198</th>\n",
              "      <td>34</td>\n",
              "    </tr>\n",
              "    <tr>\n",
              "      <th>199</th>\n",
              "      <td>45</td>\n",
              "    </tr>\n",
              "  </tbody>\n",
              "</table>\n",
              "<p>200 rows × 1 columns</p>\n",
              "</div><br><label><b>dtype:</b> int64</label>"
            ]
          },
          "metadata": {},
          "execution_count": 9
        }
      ],
      "source": [
        "# Slicing (Indexing): select a Series (column) using its name\n",
        "\n",
        "df['age']"
      ]
    },
    {
      "cell_type": "code",
      "execution_count": null,
      "metadata": {
        "id": "z_2XrWm30KCZ",
        "outputId": "b8487f9c-5ad8-4da0-d65c-c85acdf104bb"
      },
      "outputs": [
        {
          "data": {
            "text/html": [
              "<div>\n",
              "<style scoped>\n",
              "    .dataframe tbody tr th:only-of-type {\n",
              "        vertical-align: middle;\n",
              "    }\n",
              "\n",
              "    .dataframe tbody tr th {\n",
              "        vertical-align: top;\n",
              "    }\n",
              "\n",
              "    .dataframe thead th {\n",
              "        text-align: right;\n",
              "    }\n",
              "</style>\n",
              "<table border=\"1\" class=\"dataframe\">\n",
              "  <thead>\n",
              "    <tr style=\"text-align: right;\">\n",
              "      <th></th>\n",
              "      <th>age</th>\n",
              "      <th>last_name</th>\n",
              "    </tr>\n",
              "  </thead>\n",
              "  <tbody>\n",
              "    <tr>\n",
              "      <th>3</th>\n",
              "      <td>52</td>\n",
              "      <td>Bradley</td>\n",
              "    </tr>\n",
              "    <tr>\n",
              "      <th>4</th>\n",
              "      <td>44</td>\n",
              "      <td>Thomas</td>\n",
              "    </tr>\n",
              "    <tr>\n",
              "      <th>5</th>\n",
              "      <td>57</td>\n",
              "      <td>Williams</td>\n",
              "    </tr>\n",
              "    <tr>\n",
              "      <th>6</th>\n",
              "      <td>46</td>\n",
              "      <td>Wood</td>\n",
              "    </tr>\n",
              "    <tr>\n",
              "      <th>7</th>\n",
              "      <td>50</td>\n",
              "      <td>Garcia</td>\n",
              "    </tr>\n",
              "    <tr>\n",
              "      <th>8</th>\n",
              "      <td>68</td>\n",
              "      <td>Coleman</td>\n",
              "    </tr>\n",
              "  </tbody>\n",
              "</table>\n",
              "</div>"
            ],
            "text/plain": [
              "   age last_name\n",
              "3   52   Bradley\n",
              "4   44    Thomas\n",
              "5   57  Williams\n",
              "6   46      Wood\n",
              "7   50    Garcia\n",
              "8   68   Coleman"
            ]
          },
          "execution_count": 12,
          "metadata": {},
          "output_type": "execute_result"
        }
      ],
      "source": [
        "df.loc[3:8, ['age', 'last_name'] ]"
      ]
    },
    {
      "cell_type": "code",
      "execution_count": null,
      "metadata": {
        "id": "cpw21o790KCZ",
        "outputId": "f220504c-0d9b-435b-cdfd-4c7dc8e4db91"
      },
      "outputs": [
        {
          "data": {
            "text/html": [
              "<div>\n",
              "<style scoped>\n",
              "    .dataframe tbody tr th:only-of-type {\n",
              "        vertical-align: middle;\n",
              "    }\n",
              "\n",
              "    .dataframe tbody tr th {\n",
              "        vertical-align: top;\n",
              "    }\n",
              "\n",
              "    .dataframe thead th {\n",
              "        text-align: right;\n",
              "    }\n",
              "</style>\n",
              "<table border=\"1\" class=\"dataframe\">\n",
              "  <thead>\n",
              "    <tr style=\"text-align: right;\">\n",
              "      <th></th>\n",
              "      <th>id</th>\n",
              "      <th>first_name</th>\n",
              "      <th>last_name</th>\n",
              "      <th>age</th>\n",
              "      <th>score</th>\n",
              "      <th>value</th>\n",
              "    </tr>\n",
              "  </thead>\n",
              "  <tbody>\n",
              "    <tr>\n",
              "      <th>4</th>\n",
              "      <td>1736</td>\n",
              "      <td>Allison</td>\n",
              "      <td>Thomas</td>\n",
              "      <td>44</td>\n",
              "      <td>-1</td>\n",
              "      <td>9553.12</td>\n",
              "    </tr>\n",
              "    <tr>\n",
              "      <th>5</th>\n",
              "      <td>2049</td>\n",
              "      <td>Stephen</td>\n",
              "      <td>Williams</td>\n",
              "      <td>57</td>\n",
              "      <td>333</td>\n",
              "      <td>138936.92</td>\n",
              "    </tr>\n",
              "    <tr>\n",
              "      <th>6</th>\n",
              "      <td>2241</td>\n",
              "      <td>Malik</td>\n",
              "      <td>Wood</td>\n",
              "      <td>46</td>\n",
              "      <td>-1</td>\n",
              "      <td>10804.47</td>\n",
              "    </tr>\n",
              "    <tr>\n",
              "      <th>7</th>\n",
              "      <td>2607</td>\n",
              "      <td>Amber</td>\n",
              "      <td>Garcia</td>\n",
              "      <td>50</td>\n",
              "      <td>536</td>\n",
              "      <td>9367.27</td>\n",
              "    </tr>\n",
              "  </tbody>\n",
              "</table>\n",
              "</div>"
            ],
            "text/plain": [
              "     id first_name last_name  age  score      value\n",
              "4  1736    Allison    Thomas   44     -1    9553.12\n",
              "5  2049    Stephen  Williams   57    333  138936.92\n",
              "6  2241      Malik      Wood   46     -1   10804.47\n",
              "7  2607      Amber    Garcia   50    536    9367.27"
            ]
          },
          "execution_count": 14,
          "metadata": {},
          "output_type": "execute_result"
        }
      ],
      "source": [
        "df.iloc[4:8]"
      ]
    },
    {
      "cell_type": "code",
      "execution_count": null,
      "metadata": {
        "id": "dD4ir0pR0KCZ"
      },
      "outputs": [],
      "source": [
        "# Slicing: select a row & column with 'loc'\n",
        "df.loc[4, 'age']"
      ]
    },
    {
      "cell_type": "code",
      "execution_count": 11,
      "metadata": {
        "id": "T253rZmF0KCZ"
      },
      "outputs": [],
      "source": [
        "#this makes a copy of the dataframe and outputs it to name_df, it doesn't edit the original df\n",
        "name_df = df.set_index('last_name')"
      ]
    },
    {
      "cell_type": "code",
      "source": [
        "name_df['Clark']"
      ],
      "metadata": {
        "colab": {
          "base_uri": "https://localhost:8080/",
          "height": 561
        },
        "id": "8qBMdBmD3VJh",
        "outputId": "9ac7b760-1b78-4e24-af5d-dad0657b6681"
      },
      "execution_count": 12,
      "outputs": [
        {
          "output_type": "error",
          "ename": "KeyError",
          "evalue": "'Clark'",
          "traceback": [
            "\u001b[0;31m---------------------------------------------------------------------------\u001b[0m",
            "\u001b[0;31mKeyError\u001b[0m                                  Traceback (most recent call last)",
            "\u001b[0;32m/usr/local/lib/python3.12/dist-packages/pandas/core/indexes/base.py\u001b[0m in \u001b[0;36mget_loc\u001b[0;34m(self, key)\u001b[0m\n\u001b[1;32m   3804\u001b[0m         \u001b[0;32mtry\u001b[0m\u001b[0;34m:\u001b[0m\u001b[0;34m\u001b[0m\u001b[0;34m\u001b[0m\u001b[0m\n\u001b[0;32m-> 3805\u001b[0;31m             \u001b[0;32mreturn\u001b[0m \u001b[0mself\u001b[0m\u001b[0;34m.\u001b[0m\u001b[0m_engine\u001b[0m\u001b[0;34m.\u001b[0m\u001b[0mget_loc\u001b[0m\u001b[0;34m(\u001b[0m\u001b[0mcasted_key\u001b[0m\u001b[0;34m)\u001b[0m\u001b[0;34m\u001b[0m\u001b[0;34m\u001b[0m\u001b[0m\n\u001b[0m\u001b[1;32m   3806\u001b[0m         \u001b[0;32mexcept\u001b[0m \u001b[0mKeyError\u001b[0m \u001b[0;32mas\u001b[0m \u001b[0merr\u001b[0m\u001b[0;34m:\u001b[0m\u001b[0;34m\u001b[0m\u001b[0;34m\u001b[0m\u001b[0m\n",
            "\u001b[0;32mindex.pyx\u001b[0m in \u001b[0;36mpandas._libs.index.IndexEngine.get_loc\u001b[0;34m()\u001b[0m\n",
            "\u001b[0;32mindex.pyx\u001b[0m in \u001b[0;36mpandas._libs.index.IndexEngine.get_loc\u001b[0;34m()\u001b[0m\n",
            "\u001b[0;32mpandas/_libs/hashtable_class_helper.pxi\u001b[0m in \u001b[0;36mpandas._libs.hashtable.PyObjectHashTable.get_item\u001b[0;34m()\u001b[0m\n",
            "\u001b[0;32mpandas/_libs/hashtable_class_helper.pxi\u001b[0m in \u001b[0;36mpandas._libs.hashtable.PyObjectHashTable.get_item\u001b[0;34m()\u001b[0m\n",
            "\u001b[0;31mKeyError\u001b[0m: 'Clark'",
            "\nThe above exception was the direct cause of the following exception:\n",
            "\u001b[0;31mKeyError\u001b[0m                                  Traceback (most recent call last)",
            "\u001b[0;32m/tmp/ipython-input-2650499235.py\u001b[0m in \u001b[0;36m<cell line: 0>\u001b[0;34m()\u001b[0m\n\u001b[0;32m----> 1\u001b[0;31m \u001b[0mname_df\u001b[0m\u001b[0;34m[\u001b[0m\u001b[0;34m'Clark'\u001b[0m\u001b[0;34m]\u001b[0m\u001b[0;34m\u001b[0m\u001b[0;34m\u001b[0m\u001b[0m\n\u001b[0m",
            "\u001b[0;32m/usr/local/lib/python3.12/dist-packages/pandas/core/frame.py\u001b[0m in \u001b[0;36m__getitem__\u001b[0;34m(self, key)\u001b[0m\n\u001b[1;32m   4100\u001b[0m             \u001b[0;32mif\u001b[0m \u001b[0mself\u001b[0m\u001b[0;34m.\u001b[0m\u001b[0mcolumns\u001b[0m\u001b[0;34m.\u001b[0m\u001b[0mnlevels\u001b[0m \u001b[0;34m>\u001b[0m \u001b[0;36m1\u001b[0m\u001b[0;34m:\u001b[0m\u001b[0;34m\u001b[0m\u001b[0;34m\u001b[0m\u001b[0m\n\u001b[1;32m   4101\u001b[0m                 \u001b[0;32mreturn\u001b[0m \u001b[0mself\u001b[0m\u001b[0;34m.\u001b[0m\u001b[0m_getitem_multilevel\u001b[0m\u001b[0;34m(\u001b[0m\u001b[0mkey\u001b[0m\u001b[0;34m)\u001b[0m\u001b[0;34m\u001b[0m\u001b[0;34m\u001b[0m\u001b[0m\n\u001b[0;32m-> 4102\u001b[0;31m             \u001b[0mindexer\u001b[0m \u001b[0;34m=\u001b[0m \u001b[0mself\u001b[0m\u001b[0;34m.\u001b[0m\u001b[0mcolumns\u001b[0m\u001b[0;34m.\u001b[0m\u001b[0mget_loc\u001b[0m\u001b[0;34m(\u001b[0m\u001b[0mkey\u001b[0m\u001b[0;34m)\u001b[0m\u001b[0;34m\u001b[0m\u001b[0;34m\u001b[0m\u001b[0m\n\u001b[0m\u001b[1;32m   4103\u001b[0m             \u001b[0;32mif\u001b[0m \u001b[0mis_integer\u001b[0m\u001b[0;34m(\u001b[0m\u001b[0mindexer\u001b[0m\u001b[0;34m)\u001b[0m\u001b[0;34m:\u001b[0m\u001b[0;34m\u001b[0m\u001b[0;34m\u001b[0m\u001b[0m\n\u001b[1;32m   4104\u001b[0m                 \u001b[0mindexer\u001b[0m \u001b[0;34m=\u001b[0m \u001b[0;34m[\u001b[0m\u001b[0mindexer\u001b[0m\u001b[0;34m]\u001b[0m\u001b[0;34m\u001b[0m\u001b[0;34m\u001b[0m\u001b[0m\n",
            "\u001b[0;32m/usr/local/lib/python3.12/dist-packages/pandas/core/indexes/base.py\u001b[0m in \u001b[0;36mget_loc\u001b[0;34m(self, key)\u001b[0m\n\u001b[1;32m   3810\u001b[0m             ):\n\u001b[1;32m   3811\u001b[0m                 \u001b[0;32mraise\u001b[0m \u001b[0mInvalidIndexError\u001b[0m\u001b[0;34m(\u001b[0m\u001b[0mkey\u001b[0m\u001b[0;34m)\u001b[0m\u001b[0;34m\u001b[0m\u001b[0;34m\u001b[0m\u001b[0m\n\u001b[0;32m-> 3812\u001b[0;31m             \u001b[0;32mraise\u001b[0m \u001b[0mKeyError\u001b[0m\u001b[0;34m(\u001b[0m\u001b[0mkey\u001b[0m\u001b[0;34m)\u001b[0m \u001b[0;32mfrom\u001b[0m \u001b[0merr\u001b[0m\u001b[0;34m\u001b[0m\u001b[0;34m\u001b[0m\u001b[0m\n\u001b[0m\u001b[1;32m   3813\u001b[0m         \u001b[0;32mexcept\u001b[0m \u001b[0mTypeError\u001b[0m\u001b[0;34m:\u001b[0m\u001b[0;34m\u001b[0m\u001b[0;34m\u001b[0m\u001b[0m\n\u001b[1;32m   3814\u001b[0m             \u001b[0;31m# If we have a listlike key, _check_indexing_error will raise\u001b[0m\u001b[0;34m\u001b[0m\u001b[0;34m\u001b[0m\u001b[0m\n",
            "\u001b[0;31mKeyError\u001b[0m: 'Clark'"
          ]
        }
      ]
    },
    {
      "cell_type": "markdown",
      "metadata": {
        "id": "aobErhp10KCZ"
      },
      "source": [
        "name_df"
      ]
    },
    {
      "cell_type": "code",
      "execution_count": null,
      "metadata": {
        "id": "TGvpgXnQ0KCZ",
        "outputId": "3f0f211b-e3d4-4084-c150-b404c3e41863"
      },
      "outputs": [
        {
          "data": {
            "text/html": [
              "<div>\n",
              "<style scoped>\n",
              "    .dataframe tbody tr th:only-of-type {\n",
              "        vertical-align: middle;\n",
              "    }\n",
              "\n",
              "    .dataframe tbody tr th {\n",
              "        vertical-align: top;\n",
              "    }\n",
              "\n",
              "    .dataframe thead th {\n",
              "        text-align: right;\n",
              "    }\n",
              "</style>\n",
              "<table border=\"1\" class=\"dataframe\">\n",
              "  <thead>\n",
              "    <tr style=\"text-align: right;\">\n",
              "      <th></th>\n",
              "      <th>id</th>\n",
              "      <th>first_name</th>\n",
              "      <th>age</th>\n",
              "      <th>score</th>\n",
              "      <th>value</th>\n",
              "    </tr>\n",
              "    <tr>\n",
              "      <th>last_name</th>\n",
              "      <th></th>\n",
              "      <th></th>\n",
              "      <th></th>\n",
              "      <th></th>\n",
              "      <th></th>\n",
              "    </tr>\n",
              "  </thead>\n",
              "  <tbody>\n",
              "    <tr>\n",
              "      <th>Clark</th>\n",
              "      <td>295</td>\n",
              "      <td>Andrea</td>\n",
              "      <td>46</td>\n",
              "      <td>-1</td>\n",
              "      <td>24547.87</td>\n",
              "    </tr>\n",
              "    <tr>\n",
              "      <th>Woods</th>\n",
              "      <td>620</td>\n",
              "      <td>Bill</td>\n",
              "      <td>46</td>\n",
              "      <td>492</td>\n",
              "      <td>46713.90</td>\n",
              "    </tr>\n",
              "    <tr>\n",
              "      <th>Jacobson</th>\n",
              "      <td>891</td>\n",
              "      <td>Alexander</td>\n",
              "      <td>48</td>\n",
              "      <td>489</td>\n",
              "      <td>32071.74</td>\n",
              "    </tr>\n",
              "    <tr>\n",
              "      <th>Bradley</th>\n",
              "      <td>914</td>\n",
              "      <td>Derrick</td>\n",
              "      <td>52</td>\n",
              "      <td>-1</td>\n",
              "      <td>30650.48</td>\n",
              "    </tr>\n",
              "    <tr>\n",
              "      <th>Thomas</th>\n",
              "      <td>1736</td>\n",
              "      <td>Allison</td>\n",
              "      <td>44</td>\n",
              "      <td>-1</td>\n",
              "      <td>9553.12</td>\n",
              "    </tr>\n",
              "    <tr>\n",
              "      <th>...</th>\n",
              "      <td>...</td>\n",
              "      <td>...</td>\n",
              "      <td>...</td>\n",
              "      <td>...</td>\n",
              "      <td>...</td>\n",
              "    </tr>\n",
              "    <tr>\n",
              "      <th>Ortiz</th>\n",
              "      <td>97441</td>\n",
              "      <td>Krista</td>\n",
              "      <td>34</td>\n",
              "      <td>-1</td>\n",
              "      <td>24074.79</td>\n",
              "    </tr>\n",
              "    <tr>\n",
              "      <th>Chambers</th>\n",
              "      <td>97728</td>\n",
              "      <td>Anna</td>\n",
              "      <td>37</td>\n",
              "      <td>598</td>\n",
              "      <td>0.00</td>\n",
              "    </tr>\n",
              "    <tr>\n",
              "      <th>Pitts</th>\n",
              "      <td>98115</td>\n",
              "      <td>Jennifer</td>\n",
              "      <td>29</td>\n",
              "      <td>606</td>\n",
              "      <td>6876.75</td>\n",
              "    </tr>\n",
              "    <tr>\n",
              "      <th>Jenkins</th>\n",
              "      <td>98284</td>\n",
              "      <td>Brittany</td>\n",
              "      <td>34</td>\n",
              "      <td>665</td>\n",
              "      <td>43525.88</td>\n",
              "    </tr>\n",
              "    <tr>\n",
              "      <th>Brown</th>\n",
              "      <td>98366</td>\n",
              "      <td>Katelyn</td>\n",
              "      <td>45</td>\n",
              "      <td>501</td>\n",
              "      <td>29668.38</td>\n",
              "    </tr>\n",
              "  </tbody>\n",
              "</table>\n",
              "<p>200 rows × 5 columns</p>\n",
              "</div>"
            ],
            "text/plain": [
              "              id first_name  age  score     value\n",
              "last_name                                        \n",
              "Clark        295     Andrea   46     -1  24547.87\n",
              "Woods        620       Bill   46    492  46713.90\n",
              "Jacobson     891  Alexander   48    489  32071.74\n",
              "Bradley      914    Derrick   52     -1  30650.48\n",
              "Thomas      1736    Allison   44     -1   9553.12\n",
              "...          ...        ...  ...    ...       ...\n",
              "Ortiz      97441     Krista   34     -1  24074.79\n",
              "Chambers   97728       Anna   37    598      0.00\n",
              "Pitts      98115   Jennifer   29    606   6876.75\n",
              "Jenkins    98284   Brittany   34    665  43525.88\n",
              "Brown      98366    Katelyn   45    501  29668.38\n",
              "\n",
              "[200 rows x 5 columns]"
            ]
          },
          "execution_count": 20,
          "metadata": {},
          "output_type": "execute_result"
        }
      ],
      "source": [
        "name_df"
      ]
    },
    {
      "cell_type": "code",
      "execution_count": 14,
      "metadata": {
        "colab": {
          "base_uri": "https://localhost:8080/",
          "height": 293
        },
        "id": "iLx6WKOf0KCZ",
        "outputId": "014c3ebb-d4c2-4bc0-c005-6774ab949100"
      },
      "outputs": [
        {
          "output_type": "error",
          "ename": "KeyError",
          "evalue": "'IndexLabel'",
          "traceback": [
            "\u001b[0;31m---------------------------------------------------------------------------\u001b[0m",
            "\u001b[0;31mKeyError\u001b[0m                                  Traceback (most recent call last)",
            "\u001b[0;32m/tmp/ipython-input-3871104520.py\u001b[0m in \u001b[0;36m<cell line: 0>\u001b[0;34m()\u001b[0m\n\u001b[0;32m----> 1\u001b[0;31m \u001b[0mdf\u001b[0m\u001b[0;34m.\u001b[0m\u001b[0msort_values\u001b[0m\u001b[0;34m(\u001b[0m\u001b[0;34m'IndexLabel'\u001b[0m\u001b[0;34m)\u001b[0m\u001b[0;34m\u001b[0m\u001b[0;34m\u001b[0m\u001b[0m\n\u001b[0m",
            "\u001b[0;32m/usr/local/lib/python3.12/dist-packages/pandas/core/frame.py\u001b[0m in \u001b[0;36msort_values\u001b[0;34m(self, by, axis, ascending, inplace, kind, na_position, ignore_index, key)\u001b[0m\n\u001b[1;32m   7187\u001b[0m             \u001b[0;31m# len(by) == 1\u001b[0m\u001b[0;34m\u001b[0m\u001b[0;34m\u001b[0m\u001b[0m\n\u001b[1;32m   7188\u001b[0m \u001b[0;34m\u001b[0m\u001b[0m\n\u001b[0;32m-> 7189\u001b[0;31m             \u001b[0mk\u001b[0m \u001b[0;34m=\u001b[0m \u001b[0mself\u001b[0m\u001b[0;34m.\u001b[0m\u001b[0m_get_label_or_level_values\u001b[0m\u001b[0;34m(\u001b[0m\u001b[0mby\u001b[0m\u001b[0;34m[\u001b[0m\u001b[0;36m0\u001b[0m\u001b[0;34m]\u001b[0m\u001b[0;34m,\u001b[0m \u001b[0maxis\u001b[0m\u001b[0;34m=\u001b[0m\u001b[0maxis\u001b[0m\u001b[0;34m)\u001b[0m\u001b[0;34m\u001b[0m\u001b[0;34m\u001b[0m\u001b[0m\n\u001b[0m\u001b[1;32m   7190\u001b[0m \u001b[0;34m\u001b[0m\u001b[0m\n\u001b[1;32m   7191\u001b[0m             \u001b[0;31m# need to rewrap column in Series to apply key function\u001b[0m\u001b[0;34m\u001b[0m\u001b[0;34m\u001b[0m\u001b[0m\n",
            "\u001b[0;32m/usr/local/lib/python3.12/dist-packages/pandas/core/generic.py\u001b[0m in \u001b[0;36m_get_label_or_level_values\u001b[0;34m(self, key, axis)\u001b[0m\n\u001b[1;32m   1909\u001b[0m             \u001b[0mvalues\u001b[0m \u001b[0;34m=\u001b[0m \u001b[0mself\u001b[0m\u001b[0;34m.\u001b[0m\u001b[0maxes\u001b[0m\u001b[0;34m[\u001b[0m\u001b[0maxis\u001b[0m\u001b[0;34m]\u001b[0m\u001b[0;34m.\u001b[0m\u001b[0mget_level_values\u001b[0m\u001b[0;34m(\u001b[0m\u001b[0mkey\u001b[0m\u001b[0;34m)\u001b[0m\u001b[0;34m.\u001b[0m\u001b[0m_values\u001b[0m\u001b[0;34m\u001b[0m\u001b[0;34m\u001b[0m\u001b[0m\n\u001b[1;32m   1910\u001b[0m         \u001b[0;32melse\u001b[0m\u001b[0;34m:\u001b[0m\u001b[0;34m\u001b[0m\u001b[0;34m\u001b[0m\u001b[0m\n\u001b[0;32m-> 1911\u001b[0;31m             \u001b[0;32mraise\u001b[0m \u001b[0mKeyError\u001b[0m\u001b[0;34m(\u001b[0m\u001b[0mkey\u001b[0m\u001b[0;34m)\u001b[0m\u001b[0;34m\u001b[0m\u001b[0;34m\u001b[0m\u001b[0m\n\u001b[0m\u001b[1;32m   1912\u001b[0m \u001b[0;34m\u001b[0m\u001b[0m\n\u001b[1;32m   1913\u001b[0m         \u001b[0;31m# Check for duplicates\u001b[0m\u001b[0;34m\u001b[0m\u001b[0;34m\u001b[0m\u001b[0m\n",
            "\u001b[0;31mKeyError\u001b[0m: 'IndexLabel'"
          ]
        }
      ],
      "source": [
        "df.sort_values('IndexLabel')"
      ]
    },
    {
      "cell_type": "code",
      "execution_count": null,
      "metadata": {
        "id": "gYmK6g0s0KCZ",
        "outputId": "d930e425-e922-4032-a4e9-071ef8b28273"
      },
      "outputs": [
        {
          "data": {
            "text/plain": [
              "0      False\n",
              "1      False\n",
              "2      False\n",
              "3       True\n",
              "4      False\n",
              "       ...  \n",
              "195    False\n",
              "196    False\n",
              "197    False\n",
              "198    False\n",
              "199    False\n",
              "Name: age, Length: 200, dtype: bool"
            ]
          },
          "execution_count": 25,
          "metadata": {},
          "output_type": "execute_result"
        }
      ],
      "source": [
        "df['age'] > 50\n"
      ]
    },
    {
      "cell_type": "markdown",
      "metadata": {
        "id": "rOEX8vSB0KCZ"
      },
      "source": [
        "#### Question #1\n",
        "\n",
        "What would be the output of `df['age'] > 10`?\n",
        "\n",
        "- A) subset of `df` including only rows of individuals older than 10\n",
        "- B) a Boolean with `True` for rows where age is greater than 10 and `False` otherwise\n",
        "- C) `id`s of rows where observations are greater than 10\n",
        "- D) an error\n",
        "- E) I'm super lost"
      ]
    },
    {
      "cell_type": "code",
      "source": [
        "df['age'] > 10"
      ],
      "metadata": {
        "colab": {
          "base_uri": "https://localhost:8080/",
          "height": 458
        },
        "id": "zww7XQqx3uP9",
        "outputId": "15e3c564-6c29-430b-e944-012ab6f08b71"
      },
      "execution_count": 13,
      "outputs": [
        {
          "output_type": "execute_result",
          "data": {
            "text/plain": [
              "0      True\n",
              "1      True\n",
              "2      True\n",
              "3      True\n",
              "4      True\n",
              "       ... \n",
              "195    True\n",
              "196    True\n",
              "197    True\n",
              "198    True\n",
              "199    True\n",
              "Name: age, Length: 200, dtype: bool"
            ],
            "text/html": [
              "<div>\n",
              "<style scoped>\n",
              "    .dataframe tbody tr th:only-of-type {\n",
              "        vertical-align: middle;\n",
              "    }\n",
              "\n",
              "    .dataframe tbody tr th {\n",
              "        vertical-align: top;\n",
              "    }\n",
              "\n",
              "    .dataframe thead th {\n",
              "        text-align: right;\n",
              "    }\n",
              "</style>\n",
              "<table border=\"1\" class=\"dataframe\">\n",
              "  <thead>\n",
              "    <tr style=\"text-align: right;\">\n",
              "      <th></th>\n",
              "      <th>age</th>\n",
              "    </tr>\n",
              "  </thead>\n",
              "  <tbody>\n",
              "    <tr>\n",
              "      <th>0</th>\n",
              "      <td>True</td>\n",
              "    </tr>\n",
              "    <tr>\n",
              "      <th>1</th>\n",
              "      <td>True</td>\n",
              "    </tr>\n",
              "    <tr>\n",
              "      <th>2</th>\n",
              "      <td>True</td>\n",
              "    </tr>\n",
              "    <tr>\n",
              "      <th>3</th>\n",
              "      <td>True</td>\n",
              "    </tr>\n",
              "    <tr>\n",
              "      <th>4</th>\n",
              "      <td>True</td>\n",
              "    </tr>\n",
              "    <tr>\n",
              "      <th>...</th>\n",
              "      <td>...</td>\n",
              "    </tr>\n",
              "    <tr>\n",
              "      <th>195</th>\n",
              "      <td>True</td>\n",
              "    </tr>\n",
              "    <tr>\n",
              "      <th>196</th>\n",
              "      <td>True</td>\n",
              "    </tr>\n",
              "    <tr>\n",
              "      <th>197</th>\n",
              "      <td>True</td>\n",
              "    </tr>\n",
              "    <tr>\n",
              "      <th>198</th>\n",
              "      <td>True</td>\n",
              "    </tr>\n",
              "    <tr>\n",
              "      <th>199</th>\n",
              "      <td>True</td>\n",
              "    </tr>\n",
              "  </tbody>\n",
              "</table>\n",
              "<p>200 rows × 1 columns</p>\n",
              "</div><br><label><b>dtype:</b> bool</label>"
            ]
          },
          "metadata": {},
          "execution_count": 13
        }
      ]
    },
    {
      "cell_type": "code",
      "source": [
        "#retrieving data that has an age above 10\n",
        "#we can't use the logical opeating word 'and' here, for pandas we need to use & for boolean logic to follow\n",
        "\n",
        "df[(df['age'] > 10) & (df['score']==-1)]"
      ],
      "metadata": {
        "colab": {
          "base_uri": "https://localhost:8080/",
          "height": 1000
        },
        "id": "MNdd1dbW4LhQ",
        "outputId": "bd1ffeff-a436-4dd3-f1fc-4994d9b31999"
      },
      "execution_count": 18,
      "outputs": [
        {
          "output_type": "execute_result",
          "data": {
            "text/plain": [
              "        id first_name  last_name  age  score     value\n",
              "0      295     Andrea      Clark   46     -1  24547.87\n",
              "3      914    Derrick    Bradley   52     -1  30650.48\n",
              "4     1736    Allison     Thomas   44     -1   9553.12\n",
              "6     2241      Malik       Wood   46     -1  10804.47\n",
              "19   12250      Erica      Adams   41     -1   2126.22\n",
              "24   13806     Ashley      Jones   57     -1  80325.66\n",
              "27   15137     Andrea    Simpson   55     -1  12155.47\n",
              "35   19129      Brian     Travis   46     -1  49955.06\n",
              "36   19557    Sabrina      Simon   44     -1  14022.29\n",
              "39   22584    Kenneth    Johnson   65     -1  50174.14\n",
              "41   24650  Stephanie      Hayes   55     -1  15625.50\n",
              "42   24779      Scott      Reyes   54     -1  65163.92\n",
              "57   31457       John    Shields   51     -1  25184.43\n",
              "61   33863      Brian     Murphy   45     -1  20802.53\n",
              "70   37836    Kristin       King   34     -1  24409.19\n",
              "72   38892   Kimberly  Jefferson   60     -1  28155.47\n",
              "77   42140      Aaron       Hart   37     -1  16873.92\n",
              "82   45647    Melissa     Bailey   46     -1   4104.35\n",
              "92   51909    Michael    Brennan   45     -1  12838.06\n",
              "96   53812    Melissa     Walton   51     -1      0.00\n",
              "101  54949  Christine      Myers   45     -1  15230.16\n",
              "105  57077      Jason      Price   32     -1  24557.68\n",
              "122  64731     Sheila  Zimmerman   32     -1   9726.45\n",
              "153  82183     Tamara    Jenkins   46     -1  23914.62\n",
              "157  84203     Warren     Wilson   34     -1  17172.97\n",
              "158  84475     Brenda        Cox   64     -1  91349.57\n",
              "163  84965     Robert      Black   59     -1  13873.11\n",
              "168  87122    Douglas      Hogan   49     -1  21598.29\n",
              "182  91893     Kelsey     Martin   52     -1  40206.46\n",
              "185  92298   Jennifer      Marks   39     -1  36443.84\n",
              "190  94730       Lisa  Dominguez   22     -1       NaN\n",
              "193  96293    Michael   Phillips   32     -1   9159.90\n",
              "195  97441     Krista      Ortiz   34     -1  24074.79"
            ],
            "text/html": [
              "\n",
              "  <div id=\"df-27988baa-5b17-41f1-970d-9fe891256cb9\" class=\"colab-df-container\">\n",
              "    <div>\n",
              "<style scoped>\n",
              "    .dataframe tbody tr th:only-of-type {\n",
              "        vertical-align: middle;\n",
              "    }\n",
              "\n",
              "    .dataframe tbody tr th {\n",
              "        vertical-align: top;\n",
              "    }\n",
              "\n",
              "    .dataframe thead th {\n",
              "        text-align: right;\n",
              "    }\n",
              "</style>\n",
              "<table border=\"1\" class=\"dataframe\">\n",
              "  <thead>\n",
              "    <tr style=\"text-align: right;\">\n",
              "      <th></th>\n",
              "      <th>id</th>\n",
              "      <th>first_name</th>\n",
              "      <th>last_name</th>\n",
              "      <th>age</th>\n",
              "      <th>score</th>\n",
              "      <th>value</th>\n",
              "    </tr>\n",
              "  </thead>\n",
              "  <tbody>\n",
              "    <tr>\n",
              "      <th>0</th>\n",
              "      <td>295</td>\n",
              "      <td>Andrea</td>\n",
              "      <td>Clark</td>\n",
              "      <td>46</td>\n",
              "      <td>-1</td>\n",
              "      <td>24547.87</td>\n",
              "    </tr>\n",
              "    <tr>\n",
              "      <th>3</th>\n",
              "      <td>914</td>\n",
              "      <td>Derrick</td>\n",
              "      <td>Bradley</td>\n",
              "      <td>52</td>\n",
              "      <td>-1</td>\n",
              "      <td>30650.48</td>\n",
              "    </tr>\n",
              "    <tr>\n",
              "      <th>4</th>\n",
              "      <td>1736</td>\n",
              "      <td>Allison</td>\n",
              "      <td>Thomas</td>\n",
              "      <td>44</td>\n",
              "      <td>-1</td>\n",
              "      <td>9553.12</td>\n",
              "    </tr>\n",
              "    <tr>\n",
              "      <th>6</th>\n",
              "      <td>2241</td>\n",
              "      <td>Malik</td>\n",
              "      <td>Wood</td>\n",
              "      <td>46</td>\n",
              "      <td>-1</td>\n",
              "      <td>10804.47</td>\n",
              "    </tr>\n",
              "    <tr>\n",
              "      <th>19</th>\n",
              "      <td>12250</td>\n",
              "      <td>Erica</td>\n",
              "      <td>Adams</td>\n",
              "      <td>41</td>\n",
              "      <td>-1</td>\n",
              "      <td>2126.22</td>\n",
              "    </tr>\n",
              "    <tr>\n",
              "      <th>24</th>\n",
              "      <td>13806</td>\n",
              "      <td>Ashley</td>\n",
              "      <td>Jones</td>\n",
              "      <td>57</td>\n",
              "      <td>-1</td>\n",
              "      <td>80325.66</td>\n",
              "    </tr>\n",
              "    <tr>\n",
              "      <th>27</th>\n",
              "      <td>15137</td>\n",
              "      <td>Andrea</td>\n",
              "      <td>Simpson</td>\n",
              "      <td>55</td>\n",
              "      <td>-1</td>\n",
              "      <td>12155.47</td>\n",
              "    </tr>\n",
              "    <tr>\n",
              "      <th>35</th>\n",
              "      <td>19129</td>\n",
              "      <td>Brian</td>\n",
              "      <td>Travis</td>\n",
              "      <td>46</td>\n",
              "      <td>-1</td>\n",
              "      <td>49955.06</td>\n",
              "    </tr>\n",
              "    <tr>\n",
              "      <th>36</th>\n",
              "      <td>19557</td>\n",
              "      <td>Sabrina</td>\n",
              "      <td>Simon</td>\n",
              "      <td>44</td>\n",
              "      <td>-1</td>\n",
              "      <td>14022.29</td>\n",
              "    </tr>\n",
              "    <tr>\n",
              "      <th>39</th>\n",
              "      <td>22584</td>\n",
              "      <td>Kenneth</td>\n",
              "      <td>Johnson</td>\n",
              "      <td>65</td>\n",
              "      <td>-1</td>\n",
              "      <td>50174.14</td>\n",
              "    </tr>\n",
              "    <tr>\n",
              "      <th>41</th>\n",
              "      <td>24650</td>\n",
              "      <td>Stephanie</td>\n",
              "      <td>Hayes</td>\n",
              "      <td>55</td>\n",
              "      <td>-1</td>\n",
              "      <td>15625.50</td>\n",
              "    </tr>\n",
              "    <tr>\n",
              "      <th>42</th>\n",
              "      <td>24779</td>\n",
              "      <td>Scott</td>\n",
              "      <td>Reyes</td>\n",
              "      <td>54</td>\n",
              "      <td>-1</td>\n",
              "      <td>65163.92</td>\n",
              "    </tr>\n",
              "    <tr>\n",
              "      <th>57</th>\n",
              "      <td>31457</td>\n",
              "      <td>John</td>\n",
              "      <td>Shields</td>\n",
              "      <td>51</td>\n",
              "      <td>-1</td>\n",
              "      <td>25184.43</td>\n",
              "    </tr>\n",
              "    <tr>\n",
              "      <th>61</th>\n",
              "      <td>33863</td>\n",
              "      <td>Brian</td>\n",
              "      <td>Murphy</td>\n",
              "      <td>45</td>\n",
              "      <td>-1</td>\n",
              "      <td>20802.53</td>\n",
              "    </tr>\n",
              "    <tr>\n",
              "      <th>70</th>\n",
              "      <td>37836</td>\n",
              "      <td>Kristin</td>\n",
              "      <td>King</td>\n",
              "      <td>34</td>\n",
              "      <td>-1</td>\n",
              "      <td>24409.19</td>\n",
              "    </tr>\n",
              "    <tr>\n",
              "      <th>72</th>\n",
              "      <td>38892</td>\n",
              "      <td>Kimberly</td>\n",
              "      <td>Jefferson</td>\n",
              "      <td>60</td>\n",
              "      <td>-1</td>\n",
              "      <td>28155.47</td>\n",
              "    </tr>\n",
              "    <tr>\n",
              "      <th>77</th>\n",
              "      <td>42140</td>\n",
              "      <td>Aaron</td>\n",
              "      <td>Hart</td>\n",
              "      <td>37</td>\n",
              "      <td>-1</td>\n",
              "      <td>16873.92</td>\n",
              "    </tr>\n",
              "    <tr>\n",
              "      <th>82</th>\n",
              "      <td>45647</td>\n",
              "      <td>Melissa</td>\n",
              "      <td>Bailey</td>\n",
              "      <td>46</td>\n",
              "      <td>-1</td>\n",
              "      <td>4104.35</td>\n",
              "    </tr>\n",
              "    <tr>\n",
              "      <th>92</th>\n",
              "      <td>51909</td>\n",
              "      <td>Michael</td>\n",
              "      <td>Brennan</td>\n",
              "      <td>45</td>\n",
              "      <td>-1</td>\n",
              "      <td>12838.06</td>\n",
              "    </tr>\n",
              "    <tr>\n",
              "      <th>96</th>\n",
              "      <td>53812</td>\n",
              "      <td>Melissa</td>\n",
              "      <td>Walton</td>\n",
              "      <td>51</td>\n",
              "      <td>-1</td>\n",
              "      <td>0.00</td>\n",
              "    </tr>\n",
              "    <tr>\n",
              "      <th>101</th>\n",
              "      <td>54949</td>\n",
              "      <td>Christine</td>\n",
              "      <td>Myers</td>\n",
              "      <td>45</td>\n",
              "      <td>-1</td>\n",
              "      <td>15230.16</td>\n",
              "    </tr>\n",
              "    <tr>\n",
              "      <th>105</th>\n",
              "      <td>57077</td>\n",
              "      <td>Jason</td>\n",
              "      <td>Price</td>\n",
              "      <td>32</td>\n",
              "      <td>-1</td>\n",
              "      <td>24557.68</td>\n",
              "    </tr>\n",
              "    <tr>\n",
              "      <th>122</th>\n",
              "      <td>64731</td>\n",
              "      <td>Sheila</td>\n",
              "      <td>Zimmerman</td>\n",
              "      <td>32</td>\n",
              "      <td>-1</td>\n",
              "      <td>9726.45</td>\n",
              "    </tr>\n",
              "    <tr>\n",
              "      <th>153</th>\n",
              "      <td>82183</td>\n",
              "      <td>Tamara</td>\n",
              "      <td>Jenkins</td>\n",
              "      <td>46</td>\n",
              "      <td>-1</td>\n",
              "      <td>23914.62</td>\n",
              "    </tr>\n",
              "    <tr>\n",
              "      <th>157</th>\n",
              "      <td>84203</td>\n",
              "      <td>Warren</td>\n",
              "      <td>Wilson</td>\n",
              "      <td>34</td>\n",
              "      <td>-1</td>\n",
              "      <td>17172.97</td>\n",
              "    </tr>\n",
              "    <tr>\n",
              "      <th>158</th>\n",
              "      <td>84475</td>\n",
              "      <td>Brenda</td>\n",
              "      <td>Cox</td>\n",
              "      <td>64</td>\n",
              "      <td>-1</td>\n",
              "      <td>91349.57</td>\n",
              "    </tr>\n",
              "    <tr>\n",
              "      <th>163</th>\n",
              "      <td>84965</td>\n",
              "      <td>Robert</td>\n",
              "      <td>Black</td>\n",
              "      <td>59</td>\n",
              "      <td>-1</td>\n",
              "      <td>13873.11</td>\n",
              "    </tr>\n",
              "    <tr>\n",
              "      <th>168</th>\n",
              "      <td>87122</td>\n",
              "      <td>Douglas</td>\n",
              "      <td>Hogan</td>\n",
              "      <td>49</td>\n",
              "      <td>-1</td>\n",
              "      <td>21598.29</td>\n",
              "    </tr>\n",
              "    <tr>\n",
              "      <th>182</th>\n",
              "      <td>91893</td>\n",
              "      <td>Kelsey</td>\n",
              "      <td>Martin</td>\n",
              "      <td>52</td>\n",
              "      <td>-1</td>\n",
              "      <td>40206.46</td>\n",
              "    </tr>\n",
              "    <tr>\n",
              "      <th>185</th>\n",
              "      <td>92298</td>\n",
              "      <td>Jennifer</td>\n",
              "      <td>Marks</td>\n",
              "      <td>39</td>\n",
              "      <td>-1</td>\n",
              "      <td>36443.84</td>\n",
              "    </tr>\n",
              "    <tr>\n",
              "      <th>190</th>\n",
              "      <td>94730</td>\n",
              "      <td>Lisa</td>\n",
              "      <td>Dominguez</td>\n",
              "      <td>22</td>\n",
              "      <td>-1</td>\n",
              "      <td>NaN</td>\n",
              "    </tr>\n",
              "    <tr>\n",
              "      <th>193</th>\n",
              "      <td>96293</td>\n",
              "      <td>Michael</td>\n",
              "      <td>Phillips</td>\n",
              "      <td>32</td>\n",
              "      <td>-1</td>\n",
              "      <td>9159.90</td>\n",
              "    </tr>\n",
              "    <tr>\n",
              "      <th>195</th>\n",
              "      <td>97441</td>\n",
              "      <td>Krista</td>\n",
              "      <td>Ortiz</td>\n",
              "      <td>34</td>\n",
              "      <td>-1</td>\n",
              "      <td>24074.79</td>\n",
              "    </tr>\n",
              "  </tbody>\n",
              "</table>\n",
              "</div>\n",
              "    <div class=\"colab-df-buttons\">\n",
              "\n",
              "  <div class=\"colab-df-container\">\n",
              "    <button class=\"colab-df-convert\" onclick=\"convertToInteractive('df-27988baa-5b17-41f1-970d-9fe891256cb9')\"\n",
              "            title=\"Convert this dataframe to an interactive table.\"\n",
              "            style=\"display:none;\">\n",
              "\n",
              "  <svg xmlns=\"http://www.w3.org/2000/svg\" height=\"24px\" viewBox=\"0 -960 960 960\">\n",
              "    <path d=\"M120-120v-720h720v720H120Zm60-500h600v-160H180v160Zm220 220h160v-160H400v160Zm0 220h160v-160H400v160ZM180-400h160v-160H180v160Zm440 0h160v-160H620v160ZM180-180h160v-160H180v160Zm440 0h160v-160H620v160Z\"/>\n",
              "  </svg>\n",
              "    </button>\n",
              "\n",
              "  <style>\n",
              "    .colab-df-container {\n",
              "      display:flex;\n",
              "      gap: 12px;\n",
              "    }\n",
              "\n",
              "    .colab-df-convert {\n",
              "      background-color: #E8F0FE;\n",
              "      border: none;\n",
              "      border-radius: 50%;\n",
              "      cursor: pointer;\n",
              "      display: none;\n",
              "      fill: #1967D2;\n",
              "      height: 32px;\n",
              "      padding: 0 0 0 0;\n",
              "      width: 32px;\n",
              "    }\n",
              "\n",
              "    .colab-df-convert:hover {\n",
              "      background-color: #E2EBFA;\n",
              "      box-shadow: 0px 1px 2px rgba(60, 64, 67, 0.3), 0px 1px 3px 1px rgba(60, 64, 67, 0.15);\n",
              "      fill: #174EA6;\n",
              "    }\n",
              "\n",
              "    .colab-df-buttons div {\n",
              "      margin-bottom: 4px;\n",
              "    }\n",
              "\n",
              "    [theme=dark] .colab-df-convert {\n",
              "      background-color: #3B4455;\n",
              "      fill: #D2E3FC;\n",
              "    }\n",
              "\n",
              "    [theme=dark] .colab-df-convert:hover {\n",
              "      background-color: #434B5C;\n",
              "      box-shadow: 0px 1px 3px 1px rgba(0, 0, 0, 0.15);\n",
              "      filter: drop-shadow(0px 1px 2px rgba(0, 0, 0, 0.3));\n",
              "      fill: #FFFFFF;\n",
              "    }\n",
              "  </style>\n",
              "\n",
              "    <script>\n",
              "      const buttonEl =\n",
              "        document.querySelector('#df-27988baa-5b17-41f1-970d-9fe891256cb9 button.colab-df-convert');\n",
              "      buttonEl.style.display =\n",
              "        google.colab.kernel.accessAllowed ? 'block' : 'none';\n",
              "\n",
              "      async function convertToInteractive(key) {\n",
              "        const element = document.querySelector('#df-27988baa-5b17-41f1-970d-9fe891256cb9');\n",
              "        const dataTable =\n",
              "          await google.colab.kernel.invokeFunction('convertToInteractive',\n",
              "                                                    [key], {});\n",
              "        if (!dataTable) return;\n",
              "\n",
              "        const docLinkHtml = 'Like what you see? Visit the ' +\n",
              "          '<a target=\"_blank\" href=https://colab.research.google.com/notebooks/data_table.ipynb>data table notebook</a>'\n",
              "          + ' to learn more about interactive tables.';\n",
              "        element.innerHTML = '';\n",
              "        dataTable['output_type'] = 'display_data';\n",
              "        await google.colab.output.renderOutput(dataTable, element);\n",
              "        const docLink = document.createElement('div');\n",
              "        docLink.innerHTML = docLinkHtml;\n",
              "        element.appendChild(docLink);\n",
              "      }\n",
              "    </script>\n",
              "  </div>\n",
              "\n",
              "\n",
              "    <div id=\"df-dbada6d7-b253-4625-a8ce-52894799cf3a\">\n",
              "      <button class=\"colab-df-quickchart\" onclick=\"quickchart('df-dbada6d7-b253-4625-a8ce-52894799cf3a')\"\n",
              "                title=\"Suggest charts\"\n",
              "                style=\"display:none;\">\n",
              "\n",
              "<svg xmlns=\"http://www.w3.org/2000/svg\" height=\"24px\"viewBox=\"0 0 24 24\"\n",
              "     width=\"24px\">\n",
              "    <g>\n",
              "        <path d=\"M19 3H5c-1.1 0-2 .9-2 2v14c0 1.1.9 2 2 2h14c1.1 0 2-.9 2-2V5c0-1.1-.9-2-2-2zM9 17H7v-7h2v7zm4 0h-2V7h2v10zm4 0h-2v-4h2v4z\"/>\n",
              "    </g>\n",
              "</svg>\n",
              "      </button>\n",
              "\n",
              "<style>\n",
              "  .colab-df-quickchart {\n",
              "      --bg-color: #E8F0FE;\n",
              "      --fill-color: #1967D2;\n",
              "      --hover-bg-color: #E2EBFA;\n",
              "      --hover-fill-color: #174EA6;\n",
              "      --disabled-fill-color: #AAA;\n",
              "      --disabled-bg-color: #DDD;\n",
              "  }\n",
              "\n",
              "  [theme=dark] .colab-df-quickchart {\n",
              "      --bg-color: #3B4455;\n",
              "      --fill-color: #D2E3FC;\n",
              "      --hover-bg-color: #434B5C;\n",
              "      --hover-fill-color: #FFFFFF;\n",
              "      --disabled-bg-color: #3B4455;\n",
              "      --disabled-fill-color: #666;\n",
              "  }\n",
              "\n",
              "  .colab-df-quickchart {\n",
              "    background-color: var(--bg-color);\n",
              "    border: none;\n",
              "    border-radius: 50%;\n",
              "    cursor: pointer;\n",
              "    display: none;\n",
              "    fill: var(--fill-color);\n",
              "    height: 32px;\n",
              "    padding: 0;\n",
              "    width: 32px;\n",
              "  }\n",
              "\n",
              "  .colab-df-quickchart:hover {\n",
              "    background-color: var(--hover-bg-color);\n",
              "    box-shadow: 0 1px 2px rgba(60, 64, 67, 0.3), 0 1px 3px 1px rgba(60, 64, 67, 0.15);\n",
              "    fill: var(--button-hover-fill-color);\n",
              "  }\n",
              "\n",
              "  .colab-df-quickchart-complete:disabled,\n",
              "  .colab-df-quickchart-complete:disabled:hover {\n",
              "    background-color: var(--disabled-bg-color);\n",
              "    fill: var(--disabled-fill-color);\n",
              "    box-shadow: none;\n",
              "  }\n",
              "\n",
              "  .colab-df-spinner {\n",
              "    border: 2px solid var(--fill-color);\n",
              "    border-color: transparent;\n",
              "    border-bottom-color: var(--fill-color);\n",
              "    animation:\n",
              "      spin 1s steps(1) infinite;\n",
              "  }\n",
              "\n",
              "  @keyframes spin {\n",
              "    0% {\n",
              "      border-color: transparent;\n",
              "      border-bottom-color: var(--fill-color);\n",
              "      border-left-color: var(--fill-color);\n",
              "    }\n",
              "    20% {\n",
              "      border-color: transparent;\n",
              "      border-left-color: var(--fill-color);\n",
              "      border-top-color: var(--fill-color);\n",
              "    }\n",
              "    30% {\n",
              "      border-color: transparent;\n",
              "      border-left-color: var(--fill-color);\n",
              "      border-top-color: var(--fill-color);\n",
              "      border-right-color: var(--fill-color);\n",
              "    }\n",
              "    40% {\n",
              "      border-color: transparent;\n",
              "      border-right-color: var(--fill-color);\n",
              "      border-top-color: var(--fill-color);\n",
              "    }\n",
              "    60% {\n",
              "      border-color: transparent;\n",
              "      border-right-color: var(--fill-color);\n",
              "    }\n",
              "    80% {\n",
              "      border-color: transparent;\n",
              "      border-right-color: var(--fill-color);\n",
              "      border-bottom-color: var(--fill-color);\n",
              "    }\n",
              "    90% {\n",
              "      border-color: transparent;\n",
              "      border-bottom-color: var(--fill-color);\n",
              "    }\n",
              "  }\n",
              "</style>\n",
              "\n",
              "      <script>\n",
              "        async function quickchart(key) {\n",
              "          const quickchartButtonEl =\n",
              "            document.querySelector('#' + key + ' button');\n",
              "          quickchartButtonEl.disabled = true;  // To prevent multiple clicks.\n",
              "          quickchartButtonEl.classList.add('colab-df-spinner');\n",
              "          try {\n",
              "            const charts = await google.colab.kernel.invokeFunction(\n",
              "                'suggestCharts', [key], {});\n",
              "          } catch (error) {\n",
              "            console.error('Error during call to suggestCharts:', error);\n",
              "          }\n",
              "          quickchartButtonEl.classList.remove('colab-df-spinner');\n",
              "          quickchartButtonEl.classList.add('colab-df-quickchart-complete');\n",
              "        }\n",
              "        (() => {\n",
              "          let quickchartButtonEl =\n",
              "            document.querySelector('#df-dbada6d7-b253-4625-a8ce-52894799cf3a button');\n",
              "          quickchartButtonEl.style.display =\n",
              "            google.colab.kernel.accessAllowed ? 'block' : 'none';\n",
              "        })();\n",
              "      </script>\n",
              "    </div>\n",
              "\n",
              "    </div>\n",
              "  </div>\n"
            ],
            "application/vnd.google.colaboratory.intrinsic+json": {
              "type": "dataframe",
              "summary": "{\n  \"name\": \"df[(df['age'] > 10) & (df['score']==-1)]\",\n  \"rows\": 33,\n  \"fields\": [\n    {\n      \"column\": \"id\",\n      \"properties\": {\n        \"dtype\": \"number\",\n        \"std\": 32754,\n        \"min\": 295,\n        \"max\": 97441,\n        \"num_unique_values\": 33,\n        \"samples\": [\n          96293,\n          38892,\n          84965\n        ],\n        \"semantic_type\": \"\",\n        \"description\": \"\"\n      }\n    },\n    {\n      \"column\": \"first_name\",\n      \"properties\": {\n        \"dtype\": \"string\",\n        \"num_unique_values\": 29,\n        \"samples\": [\n          \"Lisa\",\n          \"Michael\",\n          \"Kristin\"\n        ],\n        \"semantic_type\": \"\",\n        \"description\": \"\"\n      }\n    },\n    {\n      \"column\": \"last_name\",\n      \"properties\": {\n        \"dtype\": \"string\",\n        \"num_unique_values\": 33,\n        \"samples\": [\n          \"Phillips\",\n          \"Jefferson\",\n          \"Black\"\n        ],\n        \"semantic_type\": \"\",\n        \"description\": \"\"\n      }\n    },\n    {\n      \"column\": \"age\",\n      \"properties\": {\n        \"dtype\": \"number\",\n        \"std\": 10,\n        \"min\": 22,\n        \"max\": 65,\n        \"num_unique_values\": 19,\n        \"samples\": [\n          46,\n          55,\n          60\n        ],\n        \"semantic_type\": \"\",\n        \"description\": \"\"\n      }\n    },\n    {\n      \"column\": \"score\",\n      \"properties\": {\n        \"dtype\": \"number\",\n        \"std\": 0,\n        \"min\": -1,\n        \"max\": -1,\n        \"num_unique_values\": 1,\n        \"samples\": [\n          -1\n        ],\n        \"semantic_type\": \"\",\n        \"description\": \"\"\n      }\n    },\n    {\n      \"column\": \"value\",\n      \"properties\": {\n        \"dtype\": \"number\",\n        \"std\": 21347.142074610816,\n        \"min\": 0.0,\n        \"max\": 91349.57,\n        \"num_unique_values\": 32,\n        \"samples\": [\n          36443.84\n        ],\n        \"semantic_type\": \"\",\n        \"description\": \"\"\n      }\n    }\n  ]\n}"
            }
          },
          "metadata": {},
          "execution_count": 18
        }
      ]
    },
    {
      "cell_type": "code",
      "execution_count": null,
      "metadata": {
        "id": "R8lxDE_30KCZ",
        "outputId": "0f0c1822-6707-4ec8-aa77-176a4093a9d0"
      },
      "outputs": [
        {
          "data": {
            "text/html": [
              "<div>\n",
              "<style scoped>\n",
              "    .dataframe tbody tr th:only-of-type {\n",
              "        vertical-align: middle;\n",
              "    }\n",
              "\n",
              "    .dataframe tbody tr th {\n",
              "        vertical-align: top;\n",
              "    }\n",
              "\n",
              "    .dataframe thead th {\n",
              "        text-align: right;\n",
              "    }\n",
              "</style>\n",
              "<table border=\"1\" class=\"dataframe\">\n",
              "  <thead>\n",
              "    <tr style=\"text-align: right;\">\n",
              "      <th></th>\n",
              "      <th>first_name</th>\n",
              "      <th>last_name</th>\n",
              "    </tr>\n",
              "  </thead>\n",
              "  <tbody>\n",
              "    <tr>\n",
              "      <th>39</th>\n",
              "      <td>Kenneth</td>\n",
              "      <td>Johnson</td>\n",
              "    </tr>\n",
              "    <tr>\n",
              "      <th>158</th>\n",
              "      <td>Brenda</td>\n",
              "      <td>Cox</td>\n",
              "    </tr>\n",
              "  </tbody>\n",
              "</table>\n",
              "</div>"
            ],
            "text/plain": [
              "    first_name last_name\n",
              "39     Kenneth   Johnson\n",
              "158     Brenda       Cox"
            ]
          },
          "execution_count": 32,
          "metadata": {},
          "output_type": "execute_result"
        }
      ],
      "source": [
        "# to get subset\n",
        "df.loc[ (df['age'] > 60) & (df['score']==-1) , ['first_name','last_name'] ]"
      ]
    },
    {
      "cell_type": "code",
      "execution_count": null,
      "metadata": {
        "id": "bTM1yDcV0KCa",
        "outputId": "cb28c932-f90d-4030-bf5d-c446d50b98c0"
      },
      "outputs": [
        {
          "data": {
            "text/html": [
              "<div>\n",
              "<style scoped>\n",
              "    .dataframe tbody tr th:only-of-type {\n",
              "        vertical-align: middle;\n",
              "    }\n",
              "\n",
              "    .dataframe tbody tr th {\n",
              "        vertical-align: top;\n",
              "    }\n",
              "\n",
              "    .dataframe thead th {\n",
              "        text-align: right;\n",
              "    }\n",
              "</style>\n",
              "<table border=\"1\" class=\"dataframe\">\n",
              "  <thead>\n",
              "    <tr style=\"text-align: right;\">\n",
              "      <th></th>\n",
              "      <th>id</th>\n",
              "      <th>first_name</th>\n",
              "      <th>last_name</th>\n",
              "      <th>age</th>\n",
              "      <th>score</th>\n",
              "      <th>value</th>\n",
              "    </tr>\n",
              "  </thead>\n",
              "  <tbody>\n",
              "    <tr>\n",
              "      <th>0</th>\n",
              "      <td>295</td>\n",
              "      <td>Andrea</td>\n",
              "      <td>Clark</td>\n",
              "      <td>46</td>\n",
              "      <td>-1</td>\n",
              "      <td>24547.87</td>\n",
              "    </tr>\n",
              "    <tr>\n",
              "      <th>27</th>\n",
              "      <td>15137</td>\n",
              "      <td>Andrea</td>\n",
              "      <td>Simpson</td>\n",
              "      <td>55</td>\n",
              "      <td>-1</td>\n",
              "      <td>12155.47</td>\n",
              "    </tr>\n",
              "  </tbody>\n",
              "</table>\n",
              "</div>"
            ],
            "text/plain": [
              "       id first_name last_name  age  score     value\n",
              "0     295     Andrea     Clark   46     -1  24547.87\n",
              "27  15137     Andrea   Simpson   55     -1  12155.47"
            ]
          },
          "execution_count": 30,
          "metadata": {},
          "output_type": "execute_result"
        }
      ],
      "source": [
        "df.query('first_name == \"Andrea\" ')"
      ]
    },
    {
      "cell_type": "code",
      "execution_count": null,
      "metadata": {
        "id": "8TXjspoK0KCa"
      },
      "outputs": [],
      "source": [
        "# NOTE: .loc uses the index, whatever it is\n",
        "# sometimes the index is NOT numeric!\n",
        "df.set_index('age').loc[52]\n",
        "\n",
        "#set_index('first_name').loc['Andrea']\n"
      ]
    },
    {
      "cell_type": "code",
      "execution_count": null,
      "metadata": {
        "id": "RHXrn69e0KCa",
        "outputId": "36b6bdcb-d13a-4303-a1c2-54b910512723"
      },
      "outputs": [
        {
          "ename": "KeyError",
          "evalue": "'Andr'",
          "output_type": "error",
          "traceback": [
            "\u001b[0;31m---------------------------------------------------------------------------\u001b[0m",
            "\u001b[0;31mKeyError\u001b[0m                                  Traceback (most recent call last)",
            "File \u001b[0;32m/opt/conda/lib/python3.11/site-packages/pandas/core/indexes/base.py:3805\u001b[0m, in \u001b[0;36mIndex.get_loc\u001b[0;34m(self, key)\u001b[0m\n\u001b[1;32m   3804\u001b[0m \u001b[38;5;28;01mtry\u001b[39;00m:\n\u001b[0;32m-> 3805\u001b[0m     \u001b[38;5;28;01mreturn\u001b[39;00m \u001b[38;5;28;43mself\u001b[39;49m\u001b[38;5;241;43m.\u001b[39;49m\u001b[43m_engine\u001b[49m\u001b[38;5;241;43m.\u001b[39;49m\u001b[43mget_loc\u001b[49m\u001b[43m(\u001b[49m\u001b[43mcasted_key\u001b[49m\u001b[43m)\u001b[49m\n\u001b[1;32m   3806\u001b[0m \u001b[38;5;28;01mexcept\u001b[39;00m \u001b[38;5;167;01mKeyError\u001b[39;00m \u001b[38;5;28;01mas\u001b[39;00m err:\n",
            "File \u001b[0;32mindex.pyx:167\u001b[0m, in \u001b[0;36mpandas._libs.index.IndexEngine.get_loc\u001b[0;34m()\u001b[0m\n",
            "File \u001b[0;32mindex.pyx:191\u001b[0m, in \u001b[0;36mpandas._libs.index.IndexEngine.get_loc\u001b[0;34m()\u001b[0m\n",
            "File \u001b[0;32mindex.pyx:234\u001b[0m, in \u001b[0;36mpandas._libs.index.IndexEngine._get_loc_duplicates\u001b[0;34m()\u001b[0m\n",
            "File \u001b[0;32mindex.pyx:242\u001b[0m, in \u001b[0;36mpandas._libs.index.IndexEngine._maybe_get_bool_indexer\u001b[0;34m()\u001b[0m\n",
            "File \u001b[0;32mindex.pyx:134\u001b[0m, in \u001b[0;36mpandas._libs.index._unpack_bool_indexer\u001b[0;34m()\u001b[0m\n",
            "\u001b[0;31mKeyError\u001b[0m: 'Andr'",
            "\nThe above exception was the direct cause of the following exception:\n",
            "\u001b[0;31mKeyError\u001b[0m                                  Traceback (most recent call last)",
            "Cell \u001b[0;32mIn[34], line 2\u001b[0m\n\u001b[1;32m      1\u001b[0m (\n\u001b[0;32m----> 2\u001b[0m     \u001b[43mdf\u001b[49m\n\u001b[1;32m      3\u001b[0m \u001b[43m    \u001b[49m\u001b[38;5;241;43m.\u001b[39;49m\u001b[43mset_index\u001b[49m\u001b[43m(\u001b[49m\u001b[38;5;124;43m'\u001b[39;49m\u001b[38;5;124;43mfirst_name\u001b[39;49m\u001b[38;5;124;43m'\u001b[39;49m\u001b[43m)\u001b[49m\n\u001b[1;32m      4\u001b[0m \u001b[43m    \u001b[49m\u001b[38;5;241;43m.\u001b[39;49m\u001b[43mloc\u001b[49m\u001b[43m[\u001b[49m\u001b[38;5;124;43m'\u001b[39;49m\u001b[38;5;124;43mAndr\u001b[39;49m\u001b[38;5;124;43m'\u001b[39;49m\u001b[43m]\u001b[49m\n\u001b[1;32m      5\u001b[0m )\n",
            "File \u001b[0;32m/opt/conda/lib/python3.11/site-packages/pandas/core/indexing.py:1191\u001b[0m, in \u001b[0;36m_LocationIndexer.__getitem__\u001b[0;34m(self, key)\u001b[0m\n\u001b[1;32m   1189\u001b[0m maybe_callable \u001b[38;5;241m=\u001b[39m com\u001b[38;5;241m.\u001b[39mapply_if_callable(key, \u001b[38;5;28mself\u001b[39m\u001b[38;5;241m.\u001b[39mobj)\n\u001b[1;32m   1190\u001b[0m maybe_callable \u001b[38;5;241m=\u001b[39m \u001b[38;5;28mself\u001b[39m\u001b[38;5;241m.\u001b[39m_check_deprecated_callable_usage(key, maybe_callable)\n\u001b[0;32m-> 1191\u001b[0m \u001b[38;5;28;01mreturn\u001b[39;00m \u001b[38;5;28;43mself\u001b[39;49m\u001b[38;5;241;43m.\u001b[39;49m\u001b[43m_getitem_axis\u001b[49m\u001b[43m(\u001b[49m\u001b[43mmaybe_callable\u001b[49m\u001b[43m,\u001b[49m\u001b[43m \u001b[49m\u001b[43maxis\u001b[49m\u001b[38;5;241;43m=\u001b[39;49m\u001b[43maxis\u001b[49m\u001b[43m)\u001b[49m\n",
            "File \u001b[0;32m/opt/conda/lib/python3.11/site-packages/pandas/core/indexing.py:1431\u001b[0m, in \u001b[0;36m_LocIndexer._getitem_axis\u001b[0;34m(self, key, axis)\u001b[0m\n\u001b[1;32m   1429\u001b[0m \u001b[38;5;66;03m# fall thru to straight lookup\u001b[39;00m\n\u001b[1;32m   1430\u001b[0m \u001b[38;5;28mself\u001b[39m\u001b[38;5;241m.\u001b[39m_validate_key(key, axis)\n\u001b[0;32m-> 1431\u001b[0m \u001b[38;5;28;01mreturn\u001b[39;00m \u001b[38;5;28;43mself\u001b[39;49m\u001b[38;5;241;43m.\u001b[39;49m\u001b[43m_get_label\u001b[49m\u001b[43m(\u001b[49m\u001b[43mkey\u001b[49m\u001b[43m,\u001b[49m\u001b[43m \u001b[49m\u001b[43maxis\u001b[49m\u001b[38;5;241;43m=\u001b[39;49m\u001b[43maxis\u001b[49m\u001b[43m)\u001b[49m\n",
            "File \u001b[0;32m/opt/conda/lib/python3.11/site-packages/pandas/core/indexing.py:1381\u001b[0m, in \u001b[0;36m_LocIndexer._get_label\u001b[0;34m(self, label, axis)\u001b[0m\n\u001b[1;32m   1379\u001b[0m \u001b[38;5;28;01mdef\u001b[39;00m \u001b[38;5;21m_get_label\u001b[39m(\u001b[38;5;28mself\u001b[39m, label, axis: AxisInt):\n\u001b[1;32m   1380\u001b[0m     \u001b[38;5;66;03m# GH#5567 this will fail if the label is not present in the axis.\u001b[39;00m\n\u001b[0;32m-> 1381\u001b[0m     \u001b[38;5;28;01mreturn\u001b[39;00m \u001b[38;5;28;43mself\u001b[39;49m\u001b[38;5;241;43m.\u001b[39;49m\u001b[43mobj\u001b[49m\u001b[38;5;241;43m.\u001b[39;49m\u001b[43mxs\u001b[49m\u001b[43m(\u001b[49m\u001b[43mlabel\u001b[49m\u001b[43m,\u001b[49m\u001b[43m \u001b[49m\u001b[43maxis\u001b[49m\u001b[38;5;241;43m=\u001b[39;49m\u001b[43maxis\u001b[49m\u001b[43m)\u001b[49m\n",
            "File \u001b[0;32m/opt/conda/lib/python3.11/site-packages/pandas/core/generic.py:4301\u001b[0m, in \u001b[0;36mNDFrame.xs\u001b[0;34m(self, key, axis, level, drop_level)\u001b[0m\n\u001b[1;32m   4299\u001b[0m             new_index \u001b[38;5;241m=\u001b[39m index[loc]\n\u001b[1;32m   4300\u001b[0m \u001b[38;5;28;01melse\u001b[39;00m:\n\u001b[0;32m-> 4301\u001b[0m     loc \u001b[38;5;241m=\u001b[39m \u001b[43mindex\u001b[49m\u001b[38;5;241;43m.\u001b[39;49m\u001b[43mget_loc\u001b[49m\u001b[43m(\u001b[49m\u001b[43mkey\u001b[49m\u001b[43m)\u001b[49m\n\u001b[1;32m   4303\u001b[0m     \u001b[38;5;28;01mif\u001b[39;00m \u001b[38;5;28misinstance\u001b[39m(loc, np\u001b[38;5;241m.\u001b[39mndarray):\n\u001b[1;32m   4304\u001b[0m         \u001b[38;5;28;01mif\u001b[39;00m loc\u001b[38;5;241m.\u001b[39mdtype \u001b[38;5;241m==\u001b[39m np\u001b[38;5;241m.\u001b[39mbool_:\n",
            "File \u001b[0;32m/opt/conda/lib/python3.11/site-packages/pandas/core/indexes/base.py:3812\u001b[0m, in \u001b[0;36mIndex.get_loc\u001b[0;34m(self, key)\u001b[0m\n\u001b[1;32m   3807\u001b[0m     \u001b[38;5;28;01mif\u001b[39;00m \u001b[38;5;28misinstance\u001b[39m(casted_key, \u001b[38;5;28mslice\u001b[39m) \u001b[38;5;129;01mor\u001b[39;00m (\n\u001b[1;32m   3808\u001b[0m         \u001b[38;5;28misinstance\u001b[39m(casted_key, abc\u001b[38;5;241m.\u001b[39mIterable)\n\u001b[1;32m   3809\u001b[0m         \u001b[38;5;129;01mand\u001b[39;00m \u001b[38;5;28many\u001b[39m(\u001b[38;5;28misinstance\u001b[39m(x, \u001b[38;5;28mslice\u001b[39m) \u001b[38;5;28;01mfor\u001b[39;00m x \u001b[38;5;129;01min\u001b[39;00m casted_key)\n\u001b[1;32m   3810\u001b[0m     ):\n\u001b[1;32m   3811\u001b[0m         \u001b[38;5;28;01mraise\u001b[39;00m InvalidIndexError(key)\n\u001b[0;32m-> 3812\u001b[0m     \u001b[38;5;28;01mraise\u001b[39;00m \u001b[38;5;167;01mKeyError\u001b[39;00m(key) \u001b[38;5;28;01mfrom\u001b[39;00m \u001b[38;5;21;01merr\u001b[39;00m\n\u001b[1;32m   3813\u001b[0m \u001b[38;5;28;01mexcept\u001b[39;00m \u001b[38;5;167;01mTypeError\u001b[39;00m:\n\u001b[1;32m   3814\u001b[0m     \u001b[38;5;66;03m# If we have a listlike key, _check_indexing_error will raise\u001b[39;00m\n\u001b[1;32m   3815\u001b[0m     \u001b[38;5;66;03m#  InvalidIndexError. Otherwise we fall through and re-raise\u001b[39;00m\n\u001b[1;32m   3816\u001b[0m     \u001b[38;5;66;03m#  the TypeError.\u001b[39;00m\n\u001b[1;32m   3817\u001b[0m     \u001b[38;5;28mself\u001b[39m\u001b[38;5;241m.\u001b[39m_check_indexing_error(key)\n",
            "\u001b[0;31mKeyError\u001b[0m: 'Andr'"
          ]
        }
      ],
      "source": [
        "(\n",
        "    df\n",
        "    .set_index('first_name')\n",
        "    .loc['Andr']\n",
        ")"
      ]
    },
    {
      "cell_type": "markdown",
      "metadata": {
        "id": "1PM6mon00KCa"
      },
      "source": [
        "## Checking out the DataFrame"
      ]
    },
    {
      "cell_type": "code",
      "execution_count": null,
      "metadata": {
        "id": "-vhyBcWQ0KCa"
      },
      "outputs": [],
      "source": [
        "# Check how large our dataframe is\n",
        "df.shape"
      ]
    },
    {
      "cell_type": "code",
      "execution_count": null,
      "metadata": {
        "id": "UJ_lroqF0KCa",
        "outputId": "62e5cfa7-1197-4551-b929-f0fd0e574505"
      },
      "outputs": [
        {
          "data": {
            "text/plain": [
              "Index(['id', 'first_name', 'last_name', 'age', 'score', 'value'], dtype='object')"
            ]
          },
          "execution_count": 35,
          "metadata": {},
          "output_type": "execute_result"
        }
      ],
      "source": [
        "# Check what columns we have in our DataFrame\n",
        "df.columns"
      ]
    },
    {
      "cell_type": "code",
      "execution_count": null,
      "metadata": {
        "id": "ms0Wlg1a0KCa"
      },
      "outputs": [],
      "source": [
        "df.set_index('first_name').index"
      ]
    },
    {
      "cell_type": "code",
      "execution_count": null,
      "metadata": {
        "id": "otuDvvu10KCa",
        "outputId": "887eb0cc-69a7-48d4-ff34-789c6dc31424"
      },
      "outputs": [
        {
          "data": {
            "text/plain": [
              "id              int64\n",
              "first_name     object\n",
              "last_name      object\n",
              "age             int64\n",
              "score           int64\n",
              "value         float64\n",
              "dtype: object"
            ]
          },
          "execution_count": 36,
          "metadata": {},
          "output_type": "execute_result"
        }
      ],
      "source": [
        "# Check the datatypes of our variables\n",
        "df.dtypes"
      ]
    },
    {
      "cell_type": "markdown",
      "metadata": {
        "id": "CpjU2B6g0KCa"
      },
      "source": [
        "## Exploring the data\n",
        "\n",
        "- quantitative (numbers)\n",
        "- qualitative (categorical)\n",
        "- basic descriptive statistics"
      ]
    },
    {
      "cell_type": "code",
      "execution_count": null,
      "metadata": {
        "id": "8KKZeFXt0KCa",
        "outputId": "bdc36f63-38d5-4d38-8e13-4e9555e5ac65"
      },
      "outputs": [
        {
          "data": {
            "text/plain": [
              "first_name\n",
              "David        6\n",
              "Michael      5\n",
              "Eric         4\n",
              "Charles      4\n",
              "James        4\n",
              "Elizabeth    3\n",
              "Ashley       3\n",
              "Jonathan     3\n",
              "Sarah        3\n",
              "Brian        3\n",
              "Jennifer     3\n",
              "Jason        3\n",
              "John         3\n",
              "Aaron        2\n",
              "Sabrina      2\n",
              "Robert       2\n",
              "Lisa         2\n",
              "Mary         2\n",
              "Cynthia      2\n",
              "Amanda       2\n",
              "Name: count, dtype: int64"
            ]
          },
          "execution_count": 38,
          "metadata": {},
          "output_type": "execute_result"
        }
      ],
      "source": [
        "# Checking categorical data\n",
        "#20 most commonlt appearing values\n",
        "df['first_name'].value_counts().iloc[:20]"
      ]
    },
    {
      "cell_type": "code",
      "execution_count": null,
      "metadata": {
        "id": "4cmKLINq0KCa",
        "outputId": "7d5e5a72-f66a-4efd-87ca-1a4700dd4a58"
      },
      "outputs": [
        {
          "data": {
            "text/plain": [
              "id       54643.50\n",
              "age         46.00\n",
              "value    17976.51\n",
              "dtype: float64"
            ]
          },
          "execution_count": 39,
          "metadata": {},
          "output_type": "execute_result"
        }
      ],
      "source": [
        "# Check a particular descriptive statistic, like mean(), median(), mode(), std(), var(), etc\n",
        "df[['id','age', 'value']].median()"
      ]
    },
    {
      "cell_type": "code",
      "execution_count": 20,
      "metadata": {
        "colab": {
          "base_uri": "https://localhost:8080/",
          "height": 335
        },
        "id": "dkcfJrlO0KCa",
        "outputId": "ccc43335-81c8-4684-e6ff-e1d34096848b"
      },
      "outputs": [
        {
          "output_type": "execute_result",
          "data": {
            "text/plain": [
              "count       189.000000\n",
              "mean      28730.336296\n",
              "std       32493.945741\n",
              "min           0.000000\n",
              "25%        9593.030000\n",
              "50%       17976.510000\n",
              "75%       33163.310000\n",
              "max      204999.960000\n",
              "Name: value, dtype: float64"
            ],
            "text/html": [
              "<div>\n",
              "<style scoped>\n",
              "    .dataframe tbody tr th:only-of-type {\n",
              "        vertical-align: middle;\n",
              "    }\n",
              "\n",
              "    .dataframe tbody tr th {\n",
              "        vertical-align: top;\n",
              "    }\n",
              "\n",
              "    .dataframe thead th {\n",
              "        text-align: right;\n",
              "    }\n",
              "</style>\n",
              "<table border=\"1\" class=\"dataframe\">\n",
              "  <thead>\n",
              "    <tr style=\"text-align: right;\">\n",
              "      <th></th>\n",
              "      <th>value</th>\n",
              "    </tr>\n",
              "  </thead>\n",
              "  <tbody>\n",
              "    <tr>\n",
              "      <th>count</th>\n",
              "      <td>189.000000</td>\n",
              "    </tr>\n",
              "    <tr>\n",
              "      <th>mean</th>\n",
              "      <td>28730.336296</td>\n",
              "    </tr>\n",
              "    <tr>\n",
              "      <th>std</th>\n",
              "      <td>32493.945741</td>\n",
              "    </tr>\n",
              "    <tr>\n",
              "      <th>min</th>\n",
              "      <td>0.000000</td>\n",
              "    </tr>\n",
              "    <tr>\n",
              "      <th>25%</th>\n",
              "      <td>9593.030000</td>\n",
              "    </tr>\n",
              "    <tr>\n",
              "      <th>50%</th>\n",
              "      <td>17976.510000</td>\n",
              "    </tr>\n",
              "    <tr>\n",
              "      <th>75%</th>\n",
              "      <td>33163.310000</td>\n",
              "    </tr>\n",
              "    <tr>\n",
              "      <th>max</th>\n",
              "      <td>204999.960000</td>\n",
              "    </tr>\n",
              "  </tbody>\n",
              "</table>\n",
              "</div><br><label><b>dtype:</b> float64</label>"
            ]
          },
          "metadata": {},
          "execution_count": 20
        }
      ],
      "source": [
        "# Describe a particular column, only 1 column at a time\n",
        "df['value'].describe()"
      ]
    },
    {
      "cell_type": "code",
      "execution_count": null,
      "metadata": {
        "id": "ewQiPeBT0KCa",
        "outputId": "ff78759b-c4c8-45a2-f2dd-2d5f943fd657"
      },
      "outputs": [
        {
          "data": {
            "text/html": [
              "<div>\n",
              "<style scoped>\n",
              "    .dataframe tbody tr th:only-of-type {\n",
              "        vertical-align: middle;\n",
              "    }\n",
              "\n",
              "    .dataframe tbody tr th {\n",
              "        vertical-align: top;\n",
              "    }\n",
              "\n",
              "    .dataframe thead th {\n",
              "        text-align: right;\n",
              "    }\n",
              "</style>\n",
              "<table border=\"1\" class=\"dataframe\">\n",
              "  <thead>\n",
              "    <tr style=\"text-align: right;\">\n",
              "      <th></th>\n",
              "      <th>id</th>\n",
              "      <th>age</th>\n",
              "      <th>score</th>\n",
              "      <th>value</th>\n",
              "    </tr>\n",
              "  </thead>\n",
              "  <tbody>\n",
              "    <tr>\n",
              "      <th>count</th>\n",
              "      <td>200.000000</td>\n",
              "      <td>200.000000</td>\n",
              "      <td>200.000000</td>\n",
              "      <td>189.000000</td>\n",
              "    </tr>\n",
              "    <tr>\n",
              "      <th>mean</th>\n",
              "      <td>52929.150000</td>\n",
              "      <td>46.020000</td>\n",
              "      <td>416.595000</td>\n",
              "      <td>28730.336296</td>\n",
              "    </tr>\n",
              "    <tr>\n",
              "      <th>std</th>\n",
              "      <td>29414.298899</td>\n",
              "      <td>10.028582</td>\n",
              "      <td>237.176674</td>\n",
              "      <td>32493.945741</td>\n",
              "    </tr>\n",
              "    <tr>\n",
              "      <th>min</th>\n",
              "      <td>295.000000</td>\n",
              "      <td>14.000000</td>\n",
              "      <td>-1.000000</td>\n",
              "      <td>0.000000</td>\n",
              "    </tr>\n",
              "    <tr>\n",
              "      <th>25%</th>\n",
              "      <td>26709.500000</td>\n",
              "      <td>39.000000</td>\n",
              "      <td>288.750000</td>\n",
              "      <td>9593.030000</td>\n",
              "    </tr>\n",
              "    <tr>\n",
              "      <th>50%</th>\n",
              "      <td>54643.500000</td>\n",
              "      <td>46.000000</td>\n",
              "      <td>463.500000</td>\n",
              "      <td>17976.510000</td>\n",
              "    </tr>\n",
              "    <tr>\n",
              "      <th>75%</th>\n",
              "      <td>80840.750000</td>\n",
              "      <td>53.000000</td>\n",
              "      <td>596.500000</td>\n",
              "      <td>33163.310000</td>\n",
              "    </tr>\n",
              "    <tr>\n",
              "      <th>max</th>\n",
              "      <td>98366.000000</td>\n",
              "      <td>69.000000</td>\n",
              "      <td>942.000000</td>\n",
              "      <td>204999.960000</td>\n",
              "    </tr>\n",
              "  </tbody>\n",
              "</table>\n",
              "</div>"
            ],
            "text/plain": [
              "                 id         age       score          value\n",
              "count    200.000000  200.000000  200.000000     189.000000\n",
              "mean   52929.150000   46.020000  416.595000   28730.336296\n",
              "std    29414.298899   10.028582  237.176674   32493.945741\n",
              "min      295.000000   14.000000   -1.000000       0.000000\n",
              "25%    26709.500000   39.000000  288.750000    9593.030000\n",
              "50%    54643.500000   46.000000  463.500000   17976.510000\n",
              "75%    80840.750000   53.000000  596.500000   33163.310000\n",
              "max    98366.000000   69.000000  942.000000  204999.960000"
            ]
          },
          "execution_count": 41,
          "metadata": {},
          "output_type": "execute_result"
        }
      ],
      "source": [
        "# Get descriptive statistics of all numerical columns\n",
        "df.describe()"
      ]
    },
    {
      "cell_type": "markdown",
      "metadata": {
        "id": "6faFkxsW0KCa"
      },
      "source": [
        "#### Question #2\n",
        "\n",
        "What's the average (mean) age of the individuals in this dataset?\n",
        "\n",
        "- A) 14\n",
        "- B) 46\n",
        "- C) 28730\n",
        "- D) NA\n",
        "- E) I'm super lost/unsure"
      ]
    },
    {
      "cell_type": "code",
      "execution_count": 21,
      "metadata": {
        "colab": {
          "base_uri": "https://localhost:8080/"
        },
        "id": "kgYbBPVG0KCb",
        "outputId": "0e681554-2870-445d-fb9d-cb48d4b85cbf"
      },
      "outputs": [
        {
          "output_type": "execute_result",
          "data": {
            "text/plain": [
              "np.float64(46.02)"
            ]
          },
          "metadata": {},
          "execution_count": 21
        }
      ],
      "source": [
        "# there are two commands that could give you the correct answer...\n",
        "df['age'].mean()"
      ]
    },
    {
      "cell_type": "code",
      "source": [
        "\n",
        "#how to print the mean of ages for data that has age> 18????\n",
        "\n",
        "(df['age']>18).mean()\n"
      ],
      "metadata": {
        "id": "F1Irk_ew636q",
        "outputId": "51f00869-de82-4cbf-b993-f3d47dc0291f",
        "colab": {
          "base_uri": "https://localhost:8080/"
        }
      },
      "execution_count": 28,
      "outputs": [
        {
          "output_type": "execute_result",
          "data": {
            "text/plain": [
              "np.float64(0.995)"
            ]
          },
          "metadata": {},
          "execution_count": 28
        }
      ]
    },
    {
      "cell_type": "markdown",
      "metadata": {
        "id": "B4XJJXOt0KCb"
      },
      "source": [
        "## `pandas`: Common Manipulations\n",
        "\n",
        "You'll want to be *very* familiar with a few common data manipulations when wrangling data, each of which is described below:\n",
        "\n",
        "Manipulation | Description\n",
        "-------|------------\n",
        "**select** | select which columns to include in dataset\n",
        "**filter** | filter dataset to only include specified rows\n",
        "**mutate** | add a new column based on values in other columns\n",
        "**groupby** | group values to apply a function within the specified groups\n",
        "**summarize** | calculate specified summary metric of a specified variable\n",
        "**arrange** | sort rows ascending or descending order of a specified column\n",
        "**merge** | join separate datasets into a single dataset based on a common column\n",
        "\n"
      ]
    },
    {
      "cell_type": "code",
      "execution_count": null,
      "metadata": {
        "id": "3rnuyLXB0KCn"
      },
      "outputs": [],
      "source": [
        "import this"
      ]
    },
    {
      "cell_type": "markdown",
      "metadata": {
        "id": "xFy6-dGM0KCn"
      },
      "source": [
        "## Selecting & Dropping Columns\n",
        "\n",
        "- include subset of columns of larger data frame"
      ]
    },
    {
      "cell_type": "code",
      "execution_count": null,
      "metadata": {
        "id": "4ZGCWg-Y0KCn"
      },
      "outputs": [],
      "source": [
        "df.head()"
      ]
    },
    {
      "cell_type": "code",
      "execution_count": null,
      "metadata": {
        "id": "p1fYD6SY0KCn"
      },
      "outputs": [],
      "source": [
        "# specify which columns to include\n",
        "select_df = df[['id', 'age', 'score', 'value']]\n",
        "select_df.head()"
      ]
    },
    {
      "cell_type": "code",
      "execution_count": null,
      "metadata": {
        "id": "JwjaiCW10KCn"
      },
      "outputs": [],
      "source": [
        "# Drop rows we don't want\n",
        "new_df = df.drop(labels=[0,2,6], axis='rows')"
      ]
    },
    {
      "cell_type": "code",
      "execution_count": null,
      "metadata": {
        "id": "ClVAepCL0KCn"
      },
      "outputs": [],
      "source": [
        "# Check out the DataFrame after dropping, what went wrong and how do we fix it?\n",
        "new_df.head()"
      ]
    },
    {
      "cell_type": "markdown",
      "metadata": {
        "id": "Fjz-3cIj0KCn"
      },
      "source": [
        "## Filtering Data (slicing)\n",
        "\n",
        "- include a subset (slice) of rows from larger data frame"
      ]
    },
    {
      "cell_type": "code",
      "execution_count": null,
      "metadata": {
        "id": "Uq1pRVze0KCn"
      },
      "outputs": [],
      "source": [
        "# Check if we have any data from people below the age of 18\n",
        "sum(df['age'] < 18)"
      ]
    },
    {
      "cell_type": "code",
      "execution_count": null,
      "metadata": {
        "id": "gLZDSY7Q0KCn"
      },
      "outputs": [],
      "source": [
        "df.loc[(df['age'] < 18)]"
      ]
    },
    {
      "cell_type": "code",
      "execution_count": null,
      "metadata": {
        "id": "AtKoCtex0KCn"
      },
      "outputs": [],
      "source": [
        "# Select only participants who are 18 or older  AND who have a score of -1\n",
        "df_new = df[ (df['age'] >= 18)] # & (df['score']==-1)]\n",
        "df_new"
      ]
    },
    {
      "cell_type": "markdown",
      "metadata": {
        "id": "HLeOjomg0KCn"
      },
      "source": [
        "## Missing Data (NaNs)"
      ]
    },
    {
      "cell_type": "code",
      "execution_count": null,
      "metadata": {
        "id": "Ke5WjYEc0KCn"
      },
      "outputs": [],
      "source": [
        "# Check for missing values\n",
        "df['value'].hasn"
      ]
    },
    {
      "cell_type": "code",
      "execution_count": null,
      "metadata": {
        "id": "nRpRTN-50KCn"
      },
      "outputs": [],
      "source": [
        "df.isnull?"
      ]
    },
    {
      "cell_type": "code",
      "execution_count": null,
      "metadata": {
        "id": "gm7O446x0KCn"
      },
      "outputs": [],
      "source": [
        "# note in class\n",
        "# can operate on entire dataframe\n",
        "df.isnull()"
      ]
    },
    {
      "cell_type": "code",
      "execution_count": null,
      "metadata": {
        "id": "Arudtoo10KCn"
      },
      "outputs": [],
      "source": [
        "# Check for null values by row\n",
        "df.isnull().sum(axis='rows')"
      ]
    },
    {
      "cell_type": "code",
      "execution_count": null,
      "metadata": {
        "id": "ydd5gSo_0KCn"
      },
      "outputs": [],
      "source": [
        "# Have a look at the missing values\n",
        "df[df['value'].isnull()]\n",
        "# can also use .isna() or isnan()!"
      ]
    },
    {
      "cell_type": "markdown",
      "metadata": {
        "id": "PsbucZnd0KCo"
      },
      "source": [
        "## Dealing with Missing Data - NaNs"
      ]
    },
    {
      "cell_type": "code",
      "execution_count": null,
      "metadata": {
        "id": "0waH2Bdg0KCo"
      },
      "outputs": [],
      "source": [
        "# Dealing with null values: Drop rows with missing data\n",
        "print('before dropping null rows',df.shape)\n",
        "no_na_df = df.dropna()\n",
        "print('new shape', no_na_df.shape)"
      ]
    },
    {
      "cell_type": "code",
      "execution_count": null,
      "metadata": {
        "id": "8V_UE0Bf0KCo"
      },
      "outputs": [],
      "source": [
        "# or you can fill in a value for those missing values!\n",
        "df.fillna?\n",
        "# df.fillna(100) or df.fillna( df['value'].mean() ) or just df.fillna()"
      ]
    },
    {
      "cell_type": "markdown",
      "metadata": {
        "id": "uG0Fk5yJ0KCo"
      },
      "source": [
        "## Finding Missing Data - Bad Values"
      ]
    },
    {
      "cell_type": "code",
      "execution_count": null,
      "metadata": {
        "id": "vA_pgCca0KCo"
      },
      "outputs": [],
      "source": [
        "# Check for the properties of specific columns\n",
        "df['score'].describe()"
      ]
    },
    {
      "cell_type": "code",
      "execution_count": null,
      "metadata": {
        "id": "vsyeJC720KCo"
      },
      "outputs": [],
      "source": [
        "df[df.score<0].shape"
      ]
    },
    {
      "cell_type": "code",
      "execution_count": null,
      "metadata": {
        "id": "ZmaFae8E0KCo"
      },
      "outputs": [],
      "source": [
        "# Check the plot of the data for score to see the distribution\n",
        "df['score'].plot(kind='hist', bins=25);"
      ]
    },
    {
      "cell_type": "code",
      "execution_count": null,
      "metadata": {
        "id": "hsNxph_20KCo"
      },
      "outputs": [],
      "source": [
        "df.hist();"
      ]
    },
    {
      "cell_type": "markdown",
      "metadata": {
        "id": "c-VOe5T30KCo"
      },
      "source": [
        "## Dealing with Missing Data - Bad Values"
      ]
    },
    {
      "cell_type": "code",
      "execution_count": null,
      "metadata": {
        "id": "joavDsE60KCo"
      },
      "outputs": [],
      "source": [
        "# Look for how many values have a -1 value in 'score'\n",
        "sum(df['score'] == -1)"
      ]
    },
    {
      "cell_type": "code",
      "execution_count": null,
      "metadata": {
        "id": "j58F3Z1S0KCo"
      },
      "outputs": [],
      "source": [
        "# Drop any row with -1 value in 'score'\n",
        "df = df[df['score'] != -1]\n",
        "df.shape"
      ]
    },
    {
      "cell_type": "markdown",
      "metadata": {
        "id": "YBU0appr0KCo"
      },
      "source": [
        "## Creating new columns (mutating)\n",
        "\n",
        "- `assign` can be very helpful in adding a new column\n",
        "- lambda functions can be used to carry out calculations"
      ]
    },
    {
      "cell_type": "code",
      "execution_count": null,
      "metadata": {
        "id": "YE2l7W5A0KCo"
      },
      "outputs": [],
      "source": [
        "# convert age in years to age in (approximate) days\n",
        "df = df.assign(age_days = df['age'] * 365)\n",
        "df.head()"
      ]
    },
    {
      "cell_type": "code",
      "execution_count": null,
      "metadata": {
        "id": "IYOVfHzG0KCo"
      },
      "outputs": [],
      "source": [
        "df['age_months'] = df['age'] * 12\n",
        "df.head()"
      ]
    },
    {
      "cell_type": "markdown",
      "metadata": {
        "id": "o-UFnpcD0KCo"
      },
      "source": [
        "## Grouping & summarizing\n",
        "\n",
        "- group by a particular variable\n",
        "- calculate summary statistics/metrics within group"
      ]
    },
    {
      "cell_type": "code",
      "execution_count": null,
      "metadata": {
        "id": "uOVwVZ2_0KCo"
      },
      "outputs": [],
      "source": [
        "df.first_name.value_counts()"
      ]
    },
    {
      "cell_type": "code",
      "execution_count": 29,
      "metadata": {
        "colab": {
          "base_uri": "https://localhost:8080/",
          "height": 490
        },
        "id": "1FHkIgUu0KCo",
        "outputId": "a4cb72af-5d85-43cb-d68d-e59c9d654f1c"
      },
      "outputs": [
        {
          "output_type": "execute_result",
          "data": {
            "text/plain": [
              "first_name\n",
              "Aaron        34.5\n",
              "Alexander    54.0\n",
              "Alexandra    37.5\n",
              "Alice        47.0\n",
              "Alison       40.0\n",
              "             ... \n",
              "Vanessa      35.0\n",
              "Victor       42.0\n",
              "Warren       34.0\n",
              "Wayne        28.0\n",
              "William      49.5\n",
              "Name: age, Length: 134, dtype: float64"
            ],
            "text/html": [
              "<div>\n",
              "<style scoped>\n",
              "    .dataframe tbody tr th:only-of-type {\n",
              "        vertical-align: middle;\n",
              "    }\n",
              "\n",
              "    .dataframe tbody tr th {\n",
              "        vertical-align: top;\n",
              "    }\n",
              "\n",
              "    .dataframe thead th {\n",
              "        text-align: right;\n",
              "    }\n",
              "</style>\n",
              "<table border=\"1\" class=\"dataframe\">\n",
              "  <thead>\n",
              "    <tr style=\"text-align: right;\">\n",
              "      <th></th>\n",
              "      <th>age</th>\n",
              "    </tr>\n",
              "    <tr>\n",
              "      <th>first_name</th>\n",
              "      <th></th>\n",
              "    </tr>\n",
              "  </thead>\n",
              "  <tbody>\n",
              "    <tr>\n",
              "      <th>Aaron</th>\n",
              "      <td>34.5</td>\n",
              "    </tr>\n",
              "    <tr>\n",
              "      <th>Alexander</th>\n",
              "      <td>54.0</td>\n",
              "    </tr>\n",
              "    <tr>\n",
              "      <th>Alexandra</th>\n",
              "      <td>37.5</td>\n",
              "    </tr>\n",
              "    <tr>\n",
              "      <th>Alice</th>\n",
              "      <td>47.0</td>\n",
              "    </tr>\n",
              "    <tr>\n",
              "      <th>Alison</th>\n",
              "      <td>40.0</td>\n",
              "    </tr>\n",
              "    <tr>\n",
              "      <th>...</th>\n",
              "      <td>...</td>\n",
              "    </tr>\n",
              "    <tr>\n",
              "      <th>Vanessa</th>\n",
              "      <td>35.0</td>\n",
              "    </tr>\n",
              "    <tr>\n",
              "      <th>Victor</th>\n",
              "      <td>42.0</td>\n",
              "    </tr>\n",
              "    <tr>\n",
              "      <th>Warren</th>\n",
              "      <td>34.0</td>\n",
              "    </tr>\n",
              "    <tr>\n",
              "      <th>Wayne</th>\n",
              "      <td>28.0</td>\n",
              "    </tr>\n",
              "    <tr>\n",
              "      <th>William</th>\n",
              "      <td>49.5</td>\n",
              "    </tr>\n",
              "  </tbody>\n",
              "</table>\n",
              "<p>134 rows × 1 columns</p>\n",
              "</div><br><label><b>dtype:</b> float64</label>"
            ]
          },
          "metadata": {},
          "execution_count": 29
        }
      ],
      "source": [
        "# caclculate average within each age\n",
        "df.groupby('first_name').age.mean()"
      ]
    },
    {
      "cell_type": "markdown",
      "metadata": {
        "id": "3cEetxSS0KCo"
      },
      "source": [
        "## Sorting Rows (arrange)\n",
        "\n",
        "- specify order in which to display rows"
      ]
    },
    {
      "cell_type": "code",
      "execution_count": null,
      "metadata": {
        "id": "o9x2kdlv0KCp"
      },
      "outputs": [],
      "source": [
        "df.head()"
      ]
    },
    {
      "cell_type": "code",
      "execution_count": null,
      "metadata": {
        "id": "a30PDNMh0KCp"
      },
      "outputs": [],
      "source": [
        "# sort by values in age\n",
        "df = df.sort_values(by = ['age'],ascending=True)\n",
        "df.head()"
      ]
    },
    {
      "cell_type": "markdown",
      "metadata": {
        "id": "aml7cvQw0KCp"
      },
      "source": [
        "## Combining datasets\n",
        "![image of join operations](https://raw.githubusercontent.com/COGS108/Lectures-Fa24/main/img/join.png)"
      ]
    },
    {
      "cell_type": "code",
      "execution_count": null,
      "metadata": {
        "id": "l02ueEnp0KCp"
      },
      "outputs": [],
      "source": [
        "## Create two DataFrames\n",
        "left = pd.DataFrame({'key': ['A', 'B', 'C', 'D'], 'value': np.random.randn(4)})\n",
        "right = pd.DataFrame({'key': ['B', 'D', 'E', 'F'], 'value': np.random.randn(4)})"
      ]
    },
    {
      "cell_type": "code",
      "execution_count": null,
      "metadata": {
        "id": "oLonM2Qr0KCp"
      },
      "outputs": [],
      "source": [
        "left"
      ]
    },
    {
      "cell_type": "code",
      "execution_count": null,
      "metadata": {
        "id": "BxVMbHwb0KCp"
      },
      "outputs": [],
      "source": [
        "right"
      ]
    },
    {
      "cell_type": "code",
      "execution_count": null,
      "metadata": {
        "id": "7V3iGVzF0KCp"
      },
      "outputs": [],
      "source": [
        "left.merge?"
      ]
    },
    {
      "cell_type": "code",
      "execution_count": null,
      "metadata": {
        "id": "PlOBvwMP0KCp"
      },
      "outputs": [],
      "source": [
        "left.merge(right, on='key', )"
      ]
    },
    {
      "cell_type": "code",
      "execution_count": null,
      "metadata": {
        "id": "LUft5EJm0KCp"
      },
      "outputs": [],
      "source": [
        "# inner merge by default\n",
        "pd.merge(left, right, on='key')"
      ]
    },
    {
      "cell_type": "code",
      "execution_count": null,
      "metadata": {
        "id": "0hacLSy90KCp"
      },
      "outputs": [],
      "source": [
        "# same as above\n",
        "pd.merge(left, right, on='key', how='inner')"
      ]
    },
    {
      "cell_type": "code",
      "execution_count": null,
      "metadata": {
        "id": "LAhAyFbZ0KCp"
      },
      "outputs": [],
      "source": [
        "# right merge\n",
        "pd.merge(left, right, on='key', how='right')"
      ]
    },
    {
      "cell_type": "code",
      "execution_count": null,
      "metadata": {
        "id": "N4AUA_-n0KCp"
      },
      "outputs": [],
      "source": [
        "# left merge\n",
        "pd.merge(left, right, on='key', how='left')"
      ]
    },
    {
      "cell_type": "code",
      "execution_count": null,
      "metadata": {
        "id": "zjhcvXd50KCp"
      },
      "outputs": [],
      "source": [
        "# outer join\n",
        "pd.merge(left, right, on='key', how='outer')"
      ]
    },
    {
      "cell_type": "code",
      "execution_count": null,
      "metadata": {
        "id": "CV-u0Sk80KCp"
      },
      "outputs": [],
      "source": [
        "pd.merge(left, right, on='key', how='outer').mean()"
      ]
    },
    {
      "cell_type": "markdown",
      "metadata": {
        "id": "g8z9e5O10KCp"
      },
      "source": [
        "Let's do this as a check in!\n",
        "## https://forms.gle/EpNS7BYhfAxvBM4X7\n",
        "\n",
        "#### Question #3\n",
        "\n",
        "If table A had 5 rows and table B had 5 rows and 3 of those rows in each table were from the same observations present in the *other* table, how many rows would be present if an **inner merge** were carried out?\n",
        "\n",
        "- A) 3\n",
        "- B) 5\n",
        "- C) 10\n",
        "- D) 13\n",
        "- E) Totally unsure"
      ]
    },
    {
      "cell_type": "markdown",
      "metadata": {
        "id": "Am1AtGPE0KCp"
      },
      "source": [
        "#### Question #4\n",
        "\n",
        "If table A had 5 rows and table B had 5 rows and 3 of those rows in each table were from the same observations present in the *other* table, how many rows would be present if a **left merge** were carried out?\n",
        "\n",
        "- A) 3\n",
        "- B) 5\n",
        "- C) 10\n",
        "- D) 13\n",
        "- E) Totally unsure"
      ]
    },
    {
      "cell_type": "code",
      "execution_count": null,
      "metadata": {
        "id": "gyJNq_af0KCp"
      },
      "outputs": [],
      "source": []
    },
    {
      "cell_type": "code",
      "execution_count": null,
      "metadata": {
        "id": "rQq6GfcN0KCp"
      },
      "outputs": [],
      "source": []
    },
    {
      "cell_type": "markdown",
      "metadata": {
        "id": "2S8eMcpn0KCq"
      },
      "source": [
        "## Visualizing Data\n",
        "\n",
        "- We'll have a whole lecture (or two) on visualization\n",
        "- For now, we'll just look at one uniquely-pandas approach"
      ]
    },
    {
      "cell_type": "code",
      "execution_count": null,
      "metadata": {
        "id": "SEY-Zy2b0KCq"
      },
      "outputs": [],
      "source": [
        "# Plot all numerical columns, and their interactions\n",
        "pd.plotting.scatter_matrix(df[['age', 'score', 'value']], figsize=[12, 12], marker=12);"
      ]
    },
    {
      "cell_type": "markdown",
      "metadata": {
        "id": "-QI_6rba0KCq"
      },
      "source": [
        "## Application Program Interface (APIs)\n",
        "\n",
        "- APIs are basically a way for software to talk to software\n",
        "    - They are an interface into an application / website / database designed for computers / software."
      ]
    },
    {
      "cell_type": "markdown",
      "metadata": {
        "id": "T1nTxV800KCq"
      },
      "source": [
        "Notes on APIs:\n",
        "- Follow API guidelines!\n",
        "- These guidelines typically specify the number / rate / size of requests"
      ]
    },
    {
      "cell_type": "markdown",
      "metadata": {
        "id": "sPtfjCDI0KCq"
      },
      "source": [
        "## Github API\n",
        "\n",
        "You can access the github api with the following API. Just added specifiers for what you are looking for.\n",
        "\n",
        "https://api.github.com/\n",
        "\n",
        "For example, the following URL will search for the user 'ShanEllis':\n",
        "\n",
        "https://api.github.com/users/shanellis\n",
        "\n",
        "\n"
      ]
    },
    {
      "cell_type": "markdown",
      "metadata": {
        "id": "_SBZgpzK0KCq"
      },
      "source": [
        "## Requesting Web Pages from Python"
      ]
    },
    {
      "cell_type": "code",
      "execution_count": null,
      "metadata": {
        "id": "N0ldVz9m0KCq"
      },
      "outputs": [],
      "source": [
        "# The requests module allows you to send URL requests from python\n",
        "import requests\n",
        "from bs4 import BeautifulSoup"
      ]
    },
    {
      "cell_type": "code",
      "execution_count": null,
      "metadata": {
        "id": "uFdafwqn0KCq"
      },
      "outputs": [],
      "source": [
        "# Request data from the Github API on a particular user\n",
        "page = requests.get('https://api.github.com/users/jasongfleischer')"
      ]
    },
    {
      "cell_type": "code",
      "execution_count": null,
      "metadata": {
        "id": "jmj3FvbM0KCq"
      },
      "outputs": [],
      "source": [
        "# The content we get back is a messily organized json file\n",
        "page.content"
      ]
    },
    {
      "cell_type": "markdown",
      "metadata": {
        "id": "JjP3jKWo0KCq"
      },
      "source": [
        "#### Question #5\n",
        "\n",
        "What type/format of output is this?\n",
        "\n",
        "- A) CSV\n",
        "- B) XML\n",
        "- C) JSON\n",
        "- D) API\n",
        "- E) I'm super lost"
      ]
    },
    {
      "cell_type": "code",
      "execution_count": null,
      "metadata": {
        "id": "ShctZMwi0KCq"
      },
      "outputs": [],
      "source": [
        "# We can read in the json data with pandas\n",
        "git_data = pd.read_json(page.content, typ='series')"
      ]
    },
    {
      "cell_type": "code",
      "execution_count": null,
      "metadata": {
        "id": "v10V4tdt0KCq"
      },
      "outputs": [],
      "source": [
        "# Check out the pandas series object full of data\n",
        "git_data"
      ]
    },
    {
      "cell_type": "markdown",
      "metadata": {
        "id": "AHN1y8oA0KCq"
      },
      "source": [
        "### Authorized Access - OAuth\n",
        "\n",
        "Open Authorization is a protocol to authorize access (of a user / application) to an API."
      ]
    },
    {
      "cell_type": "markdown",
      "metadata": {
        "id": "D27QSy9I0KCq"
      },
      "source": [
        "OAuth provides a secure way to 'log-in' without using account names and passwords.\n",
        "\n",
        "It is effectively a set of keys, and passwords you can use to access APIs."
      ]
    },
    {
      "cell_type": "markdown",
      "metadata": {
        "id": "njeauZAl0KCq"
      },
      "source": [
        "## Web Scraping vs. APIs\n",
        "\n",
        "Web scraping and APIs are different approaches:"
      ]
    },
    {
      "cell_type": "markdown",
      "metadata": {
        "id": "WqZQCfBv0KCq"
      },
      "source": [
        "- APIs are an interface to interact with an application, designed for programmatic use\n",
        "    - They allow systematic, controlled access to (for example) and applications database\n",
        "    - They typically return structured (friendly) data"
      ]
    },
    {
      "cell_type": "markdown",
      "metadata": {
        "id": "p9jAy3e-0KCq"
      },
      "source": [
        "- Web scraping (typically) involves navigating through the internet, programmatically following an architecture built for humans\n",
        "    - This can be hard to systematize, being dependent on the idiosyncracies of a web page, at the time you request it\n",
        "    - This typically returns relatively unstructured data\n",
        "    - This entails much more wrangling of the data"
      ]
    },
    {
      "cell_type": "markdown",
      "metadata": {
        "id": "rW7l9Z590KCr"
      },
      "source": [
        "## Where to Find Data?\n",
        "\n",
        "* [Awesome Public Datasets](https://github.com/awesomedata/awesome-public-datasets/blob/master/README.rst)\n",
        "* [Data.gov](https://catalog.data.gov/dataset)\n",
        "* [Data Is Plural](https://docs.google.com/spreadsheets/d/1wZhPLMCHKJvwOkP4juclhjFgqIY8fQFMemwKL2c64vk/edit#gid=0)\n",
        "* [UCSD Datasets](https://ucsd.libguides.com/data-statistics/home)\n",
        "* [Datasets | Deep Learning](http://deeplearning.net/datasets/)\n",
        "* [Stanford | Social Science Data Collection](https://data.stanford.edu/)\n",
        "* [Eviction Lab (email required)](https://evictionlab.org/get-the-data/)\n",
        "* [San Diego Data](https://data.sandiego.gov/)\n",
        "* [US Census](https://www.census.gov/)\n",
        "* [Open Climate Data](http://openclimatedata.net/)\n",
        "* [Data and Story Library](https://dasl.datadescription.com/datafiles/)\n",
        "* [UCSD behavioral mobile data](http://extrasensory.ucsd.edu/)\n",
        "* [Kaggle](https://www.kaggle.com/)\n",
        "* [FiveThirtyEight](https://data.fivethirtyeight.com/)\n",
        "* [data.world](https://data.world/)\n",
        "* [Free Datasets - R and Data Mining ](http://www.rdatamining.com/resources/data)\n",
        "* [Data Sources for Cool Data Science Projects](https://blog.thedataincubator.com/2014/10/data-sources-for-cool-data-science-projects-part-1/)"
      ]
    },
    {
      "cell_type": "markdown",
      "metadata": {
        "id": "doeoix3X0KCr"
      },
      "source": [
        "## Notes on Working with Data"
      ]
    },
    {
      "cell_type": "markdown",
      "metadata": {
        "id": "B9PD9jhW0KCr"
      },
      "source": [
        "### Data Science is Ad-Hoc\n",
        "\n",
        "- It is part of the job description to put things together that were not designed to go together.\n",
        "- We do not have universal solutions, but haphazard, idiosyncratic systems, for data collection, storage and analysis.\n",
        "- Data is everywhere. But relatively little of it was collected *as data*."
      ]
    },
    {
      "cell_type": "markdown",
      "metadata": {
        "id": "xJiUZXQ90KCr"
      },
      "source": [
        "### Data Collection, Curation, and Storage are Difficult\n",
        "\n",
        "- It can be difficult to choose broadly useful standards\n",
        "- Take time to think about your data, and how you will load, store, organize and save it"
      ]
    },
    {
      "cell_type": "markdown",
      "metadata": {
        "id": "MJ0DRush0KCr"
      },
      "source": [
        "### Data is Inherently Noisy\n",
        "\n",
        "- We live in a messy, noisy, world, with messy, noisy, people, using messy, noisy instruments.\n",
        "- There is no perfect data.\n",
        "    - There is better / or worse data, given the context."
      ]
    },
    {
      "cell_type": "markdown",
      "metadata": {
        "id": "I2XZXM6_0KCr"
      },
      "source": [
        "### Different Objectives\n",
        "\n",
        "- Humans and computers are different.\n",
        "- We interact with '*data*' in different ways.\n",
        "- This underlies many aspects of data wrangling\n",
        "    - The 'friendliness' of data types / files\n",
        "    - The difference between web scraping and APIs\n",
        "    - A disconnect between data in the real world, and data we want to use"
      ]
    },
    {
      "cell_type": "markdown",
      "metadata": {
        "id": "EQeImIcp0KCr"
      },
      "source": [
        "## So... What to do?\n",
        "\n",
        "- Think about how your data are stored & its structure?\n",
        "- Look at your data before you anayze it\n",
        "    - are there missing values?\n",
        "    - outlier values?\n",
        "- Are your data trustworthy?\n",
        "    - source?\n",
        "    - how was it generated?"
      ]
    },
    {
      "cell_type": "markdown",
      "metadata": {
        "id": "SgtcISEP0KCr"
      },
      "source": [
        "## Specific Recommendations\n",
        "\n",
        "- Prioritize using well structured, common, open file types\n",
        "    - Take advantage of existing tools to deal with these files (numpy, pandas, etc.)"
      ]
    },
    {
      "cell_type": "markdown",
      "metadata": {
        "id": "ZjtM8Qg30KCr"
      },
      "source": [
        "- Look into, and then follow, common conventions\n",
        "    - Minimize custom objects, workflows and data files\n",
        "- Look for APIs. Ask if they are available.\n",
        "    - Acknowledge that web scraping and/or wrangling unstructured data are complex / long tasks"
      ]
    },
    {
      "cell_type": "markdown",
      "metadata": {
        "id": "NdP6nrcd0KCr"
      },
      "source": [
        "- Think about data flow from the beginning. Organize your data pipeline, consider the 'wrangling' aspects throughout\n",
        "    - Set yourself up with well organized, labelled approach to your data\n",
        "    - Think about when and how you might want/need to save out intermediate results."
      ]
    },
    {
      "cell_type": "code",
      "execution_count": null,
      "metadata": {
        "id": "P2H_PZXG0KCr"
      },
      "outputs": [],
      "source": []
    }
  ],
  "metadata": {
    "kernelspec": {
      "display_name": "Python 3 (ipykernel)",
      "language": "python",
      "name": "python3"
    },
    "language_info": {
      "codemirror_mode": {
        "name": "ipython",
        "version": 3
      },
      "file_extension": ".py",
      "mimetype": "text/x-python",
      "name": "python",
      "nbconvert_exporter": "python",
      "pygments_lexer": "ipython3",
      "version": "3.11.9"
    },
    "colab": {
      "provenance": []
    }
  },
  "nbformat": 4,
  "nbformat_minor": 0
}